{
 "cells": [
  {
   "cell_type": "markdown",
   "metadata": {},
   "source": [
    "## Move images into folders based on theirt classification\n",
    "The previous program stored the images in one single folder, this code attempts to classify it and store<br>\n",
    "it in folders based on it's name<br>\n",
    "It also analyses the data that exists in order to design algorithms in the future"
   ]
  },
  {
   "cell_type": "code",
   "execution_count": 6,
   "metadata": {},
   "outputs": [],
   "source": [
    "import os\n",
    "import shutil"
   ]
  },
  {
   "cell_type": "code",
   "execution_count": 7,
   "metadata": {},
   "outputs": [
    {
     "name": "stdout",
     "output_type": "stream",
     "text": [
      "3739\n"
     ]
    }
   ],
   "source": [
    "for count, filename in enumerate(os.listdir(\"agroimages/combined_images\")):\n",
    "    no = count\n",
    "print(no)"
   ]
  },
  {
   "cell_type": "markdown",
   "metadata": {},
   "source": [
    "Loops thrugh the combined images folder"
   ]
  },
  {
   "cell_type": "code",
   "execution_count": 8,
   "metadata": {},
   "outputs": [
    {
     "name": "stdout",
     "output_type": "stream",
     "text": [
      "Maize Kharif Early Vegetative  Stem Borer  No Disease  No Deficiency955.jpg\n",
      "Red Gram Kharif Early Vegetative  No Insect  No Disease  No Deficiency498.jpg\n",
      "Cotton Kharif Squaring  Mealybugs  No Disease  No Deficiency921.jpg\n",
      "Cotton Kharif Early Vegetative  No Insect  No Disease  No Deficiency480.jpg\n",
      "Maize Kharif Grain Filling  Cob Borer  No Disease  No Deficiency39.jpg\n",
      "Cotton Kharif Early Vegetative  Mealybugs  No Disease  No Deficiency19.jpg\n",
      "Cotton Kharif Early Vegetative  No Insect  No Disease  No Deficiency331.jpg\n",
      "Cotton Kharif Early Vegetative  Mealybugs  No Disease  No Deficiency401.jpg\n",
      "Cotton Kharif Early Vegetative  No Insect  No Disease  No Deficiency457.jpg\n",
      "Cotton Kharif Tillering  No Insect  No Disease  No Deficiency398.jpg\n",
      "Red Gram Kharif Early Vegetative  No Insect  No Disease  No Deficiency329.jpg\n",
      "Maize Kharif Grain Filling  No Insect  Downy mildew  No Deficiency85.jpg\n",
      "Black Gram Kharif Early Maturity  No Insect  Others  No Deficiency529.jpg\n",
      "Maize leafspot228.jpg\n",
      "Cotton Kharif Early Vegetative  No Insect  No Disease  No Deficiency325.jpg\n",
      "Red Gram Kharif Early Vegetative  No Insect  No Disease  No Deficiency467.jpg\n",
      "Maize Kharif Grain Filling  Stem Borer  No Disease  No Deficiency613.jpg\n",
      "Cotton Kharif Early Vegetative  Leaf Hopper  No Disease  No Deficiency291.jpg\n",
      "Cotton Kharif Early Vegetative  No Insect  Cotton leaf curl virus  No Deficiency3.jpg\n",
      "Cotton Kharif Early Vegetative  Leaf Hopper  No Disease  No Deficiency285.jpg\n",
      "Cotton Kharif Squaring  No Insect  No Disease  No Deficiency988.jpg\n",
      "Cotton Kharif Early Vegetative  No Insect  No Disease  No Deficiency319.jpg\n",
      "Cotton Kharif Squaring   No Insect  No Disease  No Deficiency145.jpg\n",
      "Cotton Kharif Early Vegetative  No Insect  No Disease  No Deficiency682.jpg\n",
      "Cotton Kharif Early Vegetative  No Insect  No Disease  No Deficiency872.jpg\n",
      "Cotton Kharif squaring   No Insect  No Disease  No Deficiency81.jpg\n",
      "Red Gram Kharif Early Vegetative  No Insect  Sterility Mosaic  No Deficiency288.jpg\n",
      "Cotton Kharif Early Vegetative  No Insect  No Disease  No Deficiency866.jpg\n",
      "Cotton Kharif Squaring  White Flies  No Disease  No Deficiency1053.jpg\n",
      "Red Gram Kharif Early Vegetative  No Insect  No Disease  No Deficiency881.jpg\n"
     ]
    }
   ],
   "source": [
    "number = 30\n",
    "for count, filename in enumerate(os.listdir(\"agroimages/combined_images\")):\n",
    "    if count>= number:\n",
    "        break\n",
    "    else:\n",
    "        print(filename)"
   ]
  },
  {
   "cell_type": "markdown",
   "metadata": {},
   "source": [
    "Two helper functions that we will need"
   ]
  },
  {
   "cell_type": "code",
   "execution_count": 9,
   "metadata": {},
   "outputs": [],
   "source": [
    "import re\n",
    "def remove_second_group(m):\n",
    "    \"\"\" Return only group 1 from the match object\n",
    "        Delete other groups \"\"\"\n",
    "    return m.group(1)"
   ]
  },
  {
   "cell_type": "code",
   "execution_count": 10,
   "metadata": {},
   "outputs": [],
   "source": [
    "#Removes numbers from the back of a string\n",
    "def remove_ints(m):\n",
    "    if m[-1].isalpha():\n",
    "        return m\n",
    "    else:\n",
    "        return remove_ints(m[:-1])"
   ]
  },
  {
   "cell_type": "code",
   "execution_count": 12,
   "metadata": {},
   "outputs": [
    {
     "name": "stdout",
     "output_type": "stream",
     "text": [
      "Maize Kharif Early Vegetative  Stem Borer  No Disease  No Deficiency\n",
      "Red Gram Kharif Early Vegetative  No Insect  No Disease  No Deficiency\n",
      "Cotton Kharif Squaring  Mealybugs  No Disease  No Deficiency\n",
      "Cotton Kharif Early Vegetative  No Insect  No Disease  No Deficiency\n",
      "Maize Kharif Grain Filling  Cob Borer  No Disease  No Deficiency\n",
      "Cotton Kharif Early Vegetative  Mealybugs  No Disease  No Deficiency\n",
      "Cotton Kharif Early Vegetative  No Insect  No Disease  No Deficiency\n",
      "Cotton Kharif Early Vegetative  Mealybugs  No Disease  No Deficiency\n",
      "Cotton Kharif Early Vegetative  No Insect  No Disease  No Deficiency\n",
      "Cotton Kharif Tillering  No Insect  No Disease  No Deficiency\n"
     ]
    }
   ],
   "source": [
    "number = 10\n",
    "for count, filename in enumerate(os.listdir(\"agroimages/combined_images\")):\n",
    "    if count>= number:\n",
    "        break\n",
    "    else:\n",
    "        result = re.sub(\"(.*)(.{4}$)\", remove_second_group, filename) # remove the .jpg from the name\n",
    "        # now we need to get rid of the numbers at the end\n",
    "        result = remove_ints(result)\n",
    "        print(result)"
   ]
  },
  {
   "cell_type": "code",
   "execution_count": 13,
   "metadata": {},
   "outputs": [
    {
     "name": "stdout",
     "output_type": "stream",
     "text": [
      "167\n"
     ]
    }
   ],
   "source": [
    "number = 5000\n",
    "Dict = {}\n",
    "for count, filename in enumerate(os.listdir(\"agroimages/combined_images\")):\n",
    "    if count>= number:\n",
    "        break\n",
    "    else:\n",
    "        result = re.sub(\"(.*)(.{4}$)\", remove_second_group, filename) # remove the .jpg from the name\n",
    "        # now we need to get rid of the numbers at the end\n",
    "        result = remove_ints(result)\n",
    "        result = result.title() # capitalizes after space to fix errors\n",
    "        result = result.replace(\" \", \"\")\n",
    "        if result not in Dict.keys():\n",
    "            Dict[result] = 1\n",
    "        else:\n",
    "            Dict[result] = Dict[result]+1\n",
    "print(len(Dict.keys()))"
   ]
  },
  {
   "cell_type": "markdown",
   "metadata": {},
   "source": [
    "#### number of images per classification\n",
    "This number of images per layer is very low as this is real world data and data will be added to it over time "
   ]
  },
  {
   "cell_type": "code",
   "execution_count": 14,
   "metadata": {},
   "outputs": [
    {
     "name": "stdout",
     "output_type": "stream",
     "text": [
      "MaizeKharifEarlyVegetativeStemBorerNoDiseaseNoDeficiency 228\n",
      "RedGramKharifEarlyVegetativeNoInsectNoDiseaseNoDeficiency 501\n",
      "CottonKharifSquaringMealybugsNoDiseaseNoDeficiency 24\n",
      "CottonKharifEarlyVegetativeNoInsectNoDiseaseNoDeficiency 519\n",
      "MaizeKharifGrainFillingCobBorerNoDiseaseNoDeficiency 105\n",
      "CottonKharifEarlyVegetativeMealybugsNoDiseaseNoDeficiency 164\n",
      "CottonKharifTilleringNoInsectNoDiseaseNoDeficiency 24\n",
      "MaizeKharifGrainFillingNoInsectDownyMildewNoDeficiency 24\n",
      "BlackGramKharifEarlyMaturityNoInsectOthersNoDeficiency 4\n",
      "MaizeLeafspot 1\n",
      "MaizeKharifGrainFillingStemBorerNoDiseaseNoDeficiency 77\n",
      "CottonKharifEarlyVegetativeLeafHopperNoDiseaseNoDeficiency 311\n",
      "CottonKharifEarlyVegetativeNoInsectCottonLeafCurlVirusNoDeficiency 60\n",
      "CottonKharifSquaringNoInsectNoDiseaseNoDeficiency 361\n",
      "RedGramKharifEarlyVegetativeNoInsectSterilityMosaicNoDeficiency 7\n",
      "CottonKharifSquaringWhiteFliesNoDiseaseNoDeficiency 22\n",
      "MaizeKharifGrainFillingNoInsectMaydisLeafBlightNoDeficiency 19\n",
      "RiceKharifEarlyVegetativeNoInsectNoDiseasePotash 139\n",
      "MaizeKharifEarlyVegetativeNoInsectNoDiseaseSulphur 48\n",
      "RiceKharifTilleringStemborerNoDiseaseNoDeficiency 15\n",
      "BlackGramKharifTilleringNoInsectNoDiseaseNoDeficiency 16\n",
      "CottonKharifEarlyVegetativeAphidNoDiseaseNoDeficiency 42\n",
      "CottonKharifFloweringLeafHopperNoDiseaseNoDeficiency 43\n",
      "RiceKharifEarlyVegetativeNoInsectNoDiseaseNoDeficiency 60\n",
      "MaizeKharifGrainFillingNoInsectNoDiseaseNoDeficiency 108\n",
      "CottonKharifEarlyVegetativeNoInsectNoDiseaseMagnesiumPotash 9\n",
      "CottonKharifEarlyFloweringVegetativeNoInsectNoDiseaseNoDeficiency 1\n",
      "MaizeKharifTilleringStemBorerNoDiseaseSulphur 6\n",
      "CottonKharifSquaringLeafHopperNoDiseaseNoDeficiency 58\n",
      "CottonKharifTilleringLeafMinor 2\n",
      "RedGramKharifEarlyVegetativeLeafHopperNoDiseaseNoDeficiency 32\n",
      "MaizeEarlyKharifLeafSpotLeaf 3\n",
      "MaizeKharifGrainFillingNoInsectNoDiseaseSulphur 11\n",
      "MaizeKharifEarlyVegetativeNoInsectNoDiseaseNoDeficiency 51\n",
      "RedGramKharifEarlyVegetativeNoInsectRedGramYellowMosaicNoDeficiency 9\n",
      "CottonKharifFloweringNoInsectNoDiseaseNoDeficiency 31\n",
      "BlackGramKharifEarlyMaturityOtherNoDiseaseNoDeficiency 4\n",
      "CottonKharifTilleringNoInsectCottonLeafCurlVirusNoDeficiency 25\n",
      "RiceKharifTilleringGrassHopperNoDiseaseNoDeficiency 9\n",
      "CottonKharifEarlyVegetativeCutWormNoDiseaseNoDeficiency 6\n",
      "RiceKharifEarlyVegetativeLeafFolderNoDiseaseNoDeficiency 21\n",
      "CottonKharifTilleringLeafHopperNoDiseaseNoDeficiency 18\n",
      "RiceKharifTilleringNoInsectNoDiseaseNoDeficiency 33\n",
      "CottonKharifSquaringNoInsectCottonLeafCurlVirusNoDeficiency 21\n",
      "BlackGramKharifFloweringPodBorerOthersNoDeficiency 4\n",
      "MaizeEarlyKharifEyeSpot,StemBorerLeaf 3\n",
      "BlackGramKharifFloweringNoInsectYellowMosaicVirusNoDeficiency 11\n",
      "MaizeKharifEarlyVegetativeStemBorerNoDiseaseSulphur 18\n",
      "Maize 9\n",
      "CottonKharifEarlyVegetativeNoDeficiencyNoDiseaseNoDeficiency 2\n",
      "CottonKharifEarlyVegetativeLeafHopperCottonLeafCurlVirusNoDeficiency 10\n",
      "MaizeEarlyKharifLeafBlight,EyeSpotLeaf 1\n",
      "CottonKharifSquaringThripsNoDiseaseNoDeficiency 1\n",
      "BlackGramKharifTilleringNoInsectOthersNoDeficiency 14\n",
      "CottonKharifEarlyVegetativeWhiteFliesNoDiseaseNoDeficiency 24\n",
      "BlackGramKharifFloweringNoInsectOthersNoDeficiency 14\n",
      "RiceKharifTilleringLeafFolderNoDiseaseNoDeficiency 11\n",
      "CottonKharifFloweringWhiteFliesNoDiseaseNoDeficiency 6\n",
      "BlackGramKharifEarlyMaturityOtherGrassHopper 3\n",
      "RiceKharifTilleringNoInsectNoDiseasePotash 24\n",
      "BlackGramKharifFloweringYellowMosaicVirusNoDeficiency 2\n",
      "CottonKharifEarlyVegetativeNoInsectNoDiseaseMagnesium 13\n",
      "MaizeKharifEarlyVegetativeCobBorerNoDiseaseNoDeficiency 14\n",
      "MaizeEarlyKharifEyeSpotLeaf 9\n",
      "CottonKharifEarlyVegetativeNoInsectNoDiseaseBoron 3\n",
      "RiceKharifEarlyVegetativeRiceHispaNoDiseaseNoDeficiency 25\n",
      "MaizeKharifEarlyVegetativeStemBorerNoInsectNoDiseaseNoDeficiency 2\n",
      "CottonKharifEarlyVegetativeLeafHopperNoInsectNoDiseaseNoDeficiency 3\n",
      "CottonKharifTilleringWhiteFliesNoDiseaseNoDeficiency 8\n",
      "CottonKharifBollFormationLeafHopperNoDiseaseNoDeficiency 5\n",
      "RiceKharifTilleringRiceHispaNoDiseaseNoDeficiency 9\n",
      "CottonKharifSqaringNoInsectNoDiseaseNoDeficiency 5\n",
      "MaizeEarlyKharifHealthyLeaf 1\n",
      "BlackGramKharifFloweringNoInsectNoDiseaseNoDeficiency 9\n",
      "BlackGramKharifEarlyVegetativeOtherNoDiseaseNoDeficiency 16\n",
      "MaizeKharifCobFormationSulfurDeficiencyLeaf 1\n",
      ".Ds_S 1\n",
      "MaizeKharifGrainFillingNoInsectMaydisLeafBlightDownyMildewNoDeficiency 6\n",
      "MaizeKharifTilleringNoInsectNoDiseaseSulphur 7\n",
      "CottonKharifFloweringNoInsectCottonLeafCurlVirusNoDeficiency 4\n",
      "MaizeEarlyKharifStemBorerLeaf 8\n",
      "CottonKharifTilleringLeafHopperAphidNoDiseaseNoDeficiency 1\n",
      "CottonKharifEarlyVegetativeNoInsectAlternariaLeafSpotNoDeficiency 14\n",
      "CottonKharifBollFormationWhiteFliesNoDiseaseNoDeficiency 4\n",
      "CottonKharifFloweringAphidNoDiseaseNoDeficiency 1\n",
      "CottonKharifEarlyVegetativeMitesNoDiseaseNoDeficiency 1\n",
      "CottonKarifSquaringNoInsectNoDiseaseNoDeficiency 1\n",
      "BlackGramKharifTilleringNoInsectYellowMosaicVirusNoDeficiency 13\n",
      "CottonKharifSquaringWhiteFlyThripsNoDiseaseNoDeficiency 1\n",
      "CottonKharifSqaureFormationNoInsectNoDiseaseNoDeficiency 1\n",
      "BlackGramKharifTilleringNoInsectCercosporaLeafSpotOthersNoDeficiency 1\n",
      "BlackGramKharifFloweringNoInsectCercosporaLeafSpotNoDeficiency 1\n",
      "MaizeEarlyKharifSulfurDeficiencyLeaf 8\n",
      "CottonKharifEarlyVegetativeNoInsectNoDiseasePotash 5\n",
      "BlackGramKharifEarlyMaturityStinkBugsNoDiseaseNoDeficiency 2\n",
      "CottonKharifSquaringMealybugsNoInsectNoDiseaseNoDeficiency 1\n",
      "CottonKharifTilleringAphidNoDiseaseNoDeficiency 2\n",
      "MaizeKharifGrainFillingStemBorerNoDiseaseSulphur 10\n",
      "MaizeKharifEarlyVegetativeNoInsectDownyMildewSulphur 1\n",
      "BlackGramKharifFloweringPodBorerNoDiseaseNoDeficiency 4\n",
      "MaizeKharifTilleringStemBorerNoDiseaseNoDeficiency 4\n",
      "CottonKharifSquaingLeafHopperNoDiseaseNoDeficiency 1\n",
      "CottonKharifEarlyVegetativeCutWormNoInsectNoDiseaseNoDeficiency 1\n",
      "MaizeKharifGrainFillingStemBorerDownyMildewNoDeficiency 1\n",
      "CottonKharifBollFormationThripsNoDiseaseNoDeficiency 2\n",
      "BlackGramKharifFloweringOtherNoDiseaseNoDeficiency 4\n",
      "BlackGramKharifTilleringOtherNoDiseaseNoDeficiency 1\n",
      "BlackGramKharifTilleringNoInsectCercosporaLeafSpotNoDiseaseNoDeficiency 2\n",
      "CottonKharifEarlyVegetativeNoInsectCottonLeafCurlVirusNoDiseaseNoDeficiency 1\n",
      "RedGramLeafFolderKharifEarlyVegetativeLeafHopperNoDiseaseNoDeficiency 1\n",
      "CottonKharifSquaringLeafHopperNoInsectNoDiseaseNoDeficiency 1\n",
      "RedGramKharifEarlyVegetativeNoInsectWiltNoDeficiency 4\n",
      "CottonSquaringNoInsectNoDiseaseNoDeficiency 1\n",
      "BlackGramKharifFloweringNoInsectAlternariaLeafSpotNoDeficiency 1\n",
      "MaizeKharifEarlyVegetativeNoInsectNoDiseaseIron 1\n",
      "MaizeKharifGrainFillingNoInsectMaydisLeafBlightSulphur 1\n",
      "MaizeKharifEarlyVegetativeStemBorerPolysoraRustNoDeficiency 1\n",
      "RedGramKharifEarlyVegetativeCowBugsNoDiseaseNoDeficiency 2\n",
      "MaizeEarlyKharifStemBorer,EyeSpotLeaf 1\n",
      "MaizeKharifEarlyMaturityCobBorerNoDiseaseNoDeficiency 1\n",
      "MaizeKharifSeedlingStageStemBorerLeaf 1\n",
      "MaizeEarlyKharifLeafSpot,EyeSpotLeaf 1\n",
      "BlackGramKharifEarlyVegetativeOtherNoDiseaseZinc 1\n",
      "CottonKharifEarlyVegetativeNoInsectAlternariaLeafSpotNoDiseaseNoDeficiency 2\n",
      "Maizeeyespot 1\n",
      "RiceKharifNurseryLeafFolderNoDiseaseNoDeficiency 1\n",
      "MaizeEarlyKharifEyeSpot,LeafBlightLeaf 1\n",
      "RedGramKharifEarlyVegetativeGramPodBorerNoDiseaseNoDeficiency 5\n",
      "RiceKharifTilleringRiceHispaNoDiseasePotash 1\n",
      "CottonKharifSquaringLeafHopperWhiteFliesNoDiseaseNoDeficiency 2\n",
      "RiceKharifEarlyVegetativeStemborerNoDiseaseNoDeficiency 1\n",
      "MaizeKharifEarlyVegetativeNoInsectFusariumStalkRotNoDeficiency 2\n",
      "MaizeKharifEarlyVegetativeCobBorerNoDiseaseIron 1\n",
      "BlackGramKharifTilleringNoInsectOthersOthers 1\n",
      "CottonKharifFloweringMagnesiumNoDiseaseNoDeficiency 1\n",
      "RedGramKharifEarlyVegetativePodBugSterilityMosaicNoDeficiency 1\n",
      "RedGramKharifEarlyVegetativeLeafFolderNoDiseaseNoDeficiency 2\n",
      "CottonKharifSquar8NgNoInsectNoDiseaseNoDeficiency 1\n",
      "BlackGramKharifEarlyMaturityAlternaria 1\n",
      "MaizeKharifEarlyVegetativeNoInsectNoDiseasePotash 2\n",
      "BlackGramKhariffFloweringNoInsectCercosporaLeafSpotNoDeficiency 1\n",
      "KharifSeedlingStageStemBorerLeaf 1\n",
      "CottonKharifEarlyVegetativePinkBollwormNoDiseaseNoDeficiency 2\n",
      "MaizeKharifGrainFillingNoDeficiencyDownyMildewNoDeficiency 1\n",
      "BlackGramKharifEarlyMaturityOtherCercosporaLeafSpotYellowMosaicVirusNoDeficiency 1\n",
      "RedGramKharifEarlyVegetativeLeafFolder 1\n",
      "CottonKharifEarlyVegetativeThripsNoDiseaseNoDeficiency 1\n",
      "BlackGramKharifTilleringNoInsectCercosporaLeafSpotNoDeficiency 1\n",
      ".Ipynb_Checkpo 1\n",
      "RedGramKharifEarlyVegetativeGramPodBorerNoInsectNoDiseaseNoDeficiency 1\n",
      "MaizeEarlyKharifLeafBlightLeaf 1\n",
      "MaizeKharifGrainFillingStemBorerCobBorerNoDiseaseNoDeficiency 1\n",
      "RiceKharifEarlyVegetativeRiceHispaNoInsectNoDiseaseNoDeficiency 1\n",
      "CottonKarifSqauringNoInsectNoDiseaseNoDeficiency 1\n",
      "CottonKharifFloweringStageThripsNoDiseaseNoDeficiency 1\n",
      "BlackGramKharifEarlyMaturityNoInsectYellowMosaicVirusNoDeficiency 1\n",
      "CottonKharifSquaringThrippsNoDiseaseNoDeficiency 2\n",
      "MaizeEarlyKharifStemBorer,LeafSpotLeaf 1\n",
      "CottonKharifEarlyFloweringVegetativeLeafHopperNoDiseaseNoDeficiency 1\n",
      "CottonFloweringNoInsectNoDiseaseNoDeficiency 1\n",
      "BlackGramKharifFloweringNoInsectRustNoDeficiency 1\n",
      "CottonKharifSquareFormationNoInsectNoDiseaseNoDeficiency 1\n",
      "BlackGramKharifTilleringNoInsectNoDeficiencyNoDeficiency 1\n",
      "KharifMilkingStageStemborer 1\n",
      "BlackGramKharifFloweringNoInsectNoDiseasePotassium 1\n",
      "CottonKharifEarlyVegetativeLeafHopperNoDiseaseMagnesium 1\n",
      "MaizeKharifGrainFillingCobBorerNoDiseaseIron 1\n"
     ]
    }
   ],
   "source": [
    "for x in Dict:\n",
    "    print (x, Dict[x])"
   ]
  },
  {
   "cell_type": "code",
   "execution_count": 15,
   "metadata": {},
   "outputs": [],
   "source": [
    "# lets create folders now "
   ]
  },
  {
   "cell_type": "code",
   "execution_count": 109,
   "metadata": {},
   "outputs": [],
   "source": [
    "number = 5000\n",
    "# Parent Directory path\n",
    "parent_dir = \"agroimages/classified\"\n",
    "Dict = {}\n",
    "for count, filename in enumerate(os.listdir(\"agroimages/combined_images\")):\n",
    "    \n",
    "    result = re.sub(\"(.*)(.{4}$)\", remove_second_group, filename) # remove the .jpg from the name\n",
    "    # now we need to get rid of the numbers at the end\n",
    "    result = remove_ints(result)\n",
    "    result = result.title()\n",
    "    result = result.replace(\" \", \"\") # removes spaces\n",
    "    \n",
    "    if result not in Dict.keys():\n",
    "        Dict[result] = 1\n",
    "    else:\n",
    "        Dict[result] = Dict[result]+1\n",
    "\n",
    "    #shutil.copy(\"agroimages/Combined_images/\" + filename, path)\n"
   ]
  },
  {
   "cell_type": "code",
   "execution_count": 110,
   "metadata": {},
   "outputs": [],
   "source": [
    "for x in Dict.keys():\n",
    "    directory = x\n",
    "    path = os.path.join(parent_dir, directory)\n",
    "    os.makedirs(path, exist_ok=True)    # creates the path"
   ]
  },
  {
   "cell_type": "code",
   "execution_count": 108,
   "metadata": {},
   "outputs": [],
   "source": [
    "# populate the folders "
   ]
  },
  {
   "cell_type": "code",
   "execution_count": 111,
   "metadata": {},
   "outputs": [],
   "source": [
    "number = 5000\n",
    "# Parent Directory path\n",
    "parent_dir = \"agroimages/classified\"\n",
    "Dict = {}\n",
    "for count, filename in enumerate(os.listdir(\"agroimages/combined_images\")):\n",
    "    \n",
    "    result = re.sub(\"(.*)(.{4}$)\", remove_second_group, filename) # remove the .jpg from the name\n",
    "    # now we need to get rid of the numbers at the end\n",
    "    result = remove_ints(result)\n",
    "    result = result.title()\n",
    "    result = result.replace(\" \", \"\")\n",
    "    if result not in Dict.keys():\n",
    "        Dict[result] = 1\n",
    "    else:\n",
    "        Dict[result] = Dict[result]+1\n",
    "    if \"agroimages/Combined_images/\" + filename != 'agroimages/Combined_images/.ipynb_checkpoints':\n",
    "        path = os.path.join(parent_dir, result)\n",
    "        shutil.copy(\"agroimages/Combined_images/\" + filename, path)\n",
    "\n",
    "    "
   ]
  },
  {
   "cell_type": "code",
   "execution_count": null,
   "metadata": {},
   "outputs": [],
   "source": [
    "# Remove empty folders?"
   ]
  },
  {
   "cell_type": "markdown",
   "metadata": {},
   "source": [
    "# Analysis"
   ]
  },
  {
   "cell_type": "code",
   "execution_count": 53,
   "metadata": {},
   "outputs": [
    {
     "name": "stdout",
     "output_type": "stream",
     "text": [
      "3740\n"
     ]
    }
   ],
   "source": [
    "c =0\n",
    "num = 0\n",
    "amt =0\n",
    "for x in Dict:\n",
    "        num = num + Dict[x]\n",
    "amt = c* num\n",
    "print (num)"
   ]
  },
  {
   "cell_type": "code",
   "execution_count": 54,
   "metadata": {},
   "outputs": [
    {
     "name": "stdout",
     "output_type": "stream",
     "text": [
      "3395\n"
     ]
    }
   ],
   "source": [
    "c =0\n",
    "num = 0\n",
    "for x in Dict:\n",
    "    if \"NoDisease\" in x:\n",
    "        c=c+1\n",
    "        num = num + Dict[x]\n",
    "\n",
    "print (num)"
   ]
  },
  {
   "cell_type": "code",
   "execution_count": 74,
   "metadata": {},
   "outputs": [
    {
     "name": "stdout",
     "output_type": "stream",
     "text": [
      "3382\n"
     ]
    }
   ],
   "source": [
    "c =0\n",
    "num = 0\n",
    "for x in Dict:\n",
    "    if \"Deficiency\" in x:\n",
    "        c=c+1\n",
    "        num = num + Dict[x]\n",
    "\n",
    "print (num)"
   ]
  },
  {
   "cell_type": "code",
   "execution_count": 75,
   "metadata": {},
   "outputs": [
    {
     "name": "stdout",
     "output_type": "stream",
     "text": [
      "2266\n"
     ]
    }
   ],
   "source": [
    "c =0\n",
    "num = 0\n",
    "for x in Dict:\n",
    "    if \"Insect\" in x:\n",
    "        c=c+1\n",
    "        num = num + Dict[x]\n",
    "\n",
    "print (num)"
   ]
  },
  {
   "cell_type": "code",
   "execution_count": 26,
   "metadata": {},
   "outputs": [
    {
     "name": "stdout",
     "output_type": "stream",
     "text": [
      "803\n"
     ]
    }
   ],
   "source": [
    "c =0\n",
    "num = 0\n",
    "amt =0\n",
    "for x in Dict:\n",
    "    if \"Maize\" in x:\n",
    "        c=c+1\n",
    "        num = num + Dict[x]\n",
    "amt = c* num\n",
    "print (num)"
   ]
  },
  {
   "cell_type": "code",
   "execution_count": 27,
   "metadata": {},
   "outputs": [
    {
     "name": "stdout",
     "output_type": "stream",
     "text": [
      "566\n"
     ]
    }
   ],
   "source": [
    "c =0\n",
    "num = 0\n",
    "for x in Dict:\n",
    "    if \"RedGram\" in x:\n",
    "        c=c+1\n",
    "        num = num + Dict[x]\n",
    "\n",
    "print (num)"
   ]
  },
  {
   "cell_type": "code",
   "execution_count": 28,
   "metadata": {},
   "outputs": [
    {
     "name": "stdout",
     "output_type": "stream",
     "text": [
      "1881\n"
     ]
    }
   ],
   "source": [
    "c =0\n",
    "num = 0\n",
    "for x in Dict:\n",
    "    if \"Cotton\" in x:\n",
    "        c=c+1\n",
    "        num = num + Dict[x]\n",
    "\n",
    "print (num)"
   ]
  },
  {
   "cell_type": "code",
   "execution_count": 29,
   "metadata": {},
   "outputs": [
    {
     "name": "stdout",
     "output_type": "stream",
     "text": [
      "136\n"
     ]
    }
   ],
   "source": [
    "c =0\n",
    "num = 0\n",
    "for x in Dict:\n",
    "    if \"BlackGram\" in x:\n",
    "        c=c+1\n",
    "        num = num + Dict[x]\n",
    "\n",
    "print (num)"
   ]
  },
  {
   "cell_type": "code",
   "execution_count": 52,
   "metadata": {},
   "outputs": [
    {
     "name": "stdout",
     "output_type": "stream",
     "text": [
      "350\n"
     ]
    }
   ],
   "source": [
    "c =0\n",
    "num = 0\n",
    "for x in Dict:\n",
    "    if \"Rice\" in x:\n",
    "        c=c+1\n",
    "        num = num + Dict[x]\n",
    "\n",
    "print (num)"
   ]
  },
  {
   "cell_type": "markdown",
   "metadata": {},
   "source": [
    "## Cotton"
   ]
  },
  {
   "cell_type": "code",
   "execution_count": null,
   "metadata": {},
   "outputs": [],
   "source": []
  },
  {
   "cell_type": "code",
   "execution_count": 48,
   "metadata": {},
   "outputs": [
    {
     "name": "stdout",
     "output_type": "stream",
     "text": [
      "CottonKharifEarlyVegetativeNoInsectCottonLeafCurlVirusNoDeficiency 60\n",
      "CottonKharifTilleringLeafMinor 2\n",
      "CottonKharifTilleringNoInsectCottonLeafCurlVirusNoDeficiency 25\n",
      "CottonKharifSquaringNoInsectCottonLeafCurlVirusNoDeficiency 21\n",
      "CottonKharifEarlyVegetativeLeafHopperCottonLeafCurlVirusNoDeficiency 10\n",
      "CottonKharifFloweringNoInsectCottonLeafCurlVirusNoDeficiency 4\n",
      "CottonKharifEarlyVegetativeNoInsectAlternariaLeafSpotNoDeficiency 14\n"
     ]
    }
   ],
   "source": [
    "c =0\n",
    "num = 0\n",
    "for x in Dict:\n",
    "    if \"Cotton\" in x and \"Disease\" not in x:\n",
    "        print(x, Dict[x])"
   ]
  },
  {
   "cell_type": "code",
   "execution_count": 78,
   "metadata": {},
   "outputs": [
    {
     "name": "stdout",
     "output_type": "stream",
     "text": [
      "CottonKharifSquaringMealybugsNoDiseaseNoDeficiency 24\n",
      "CottonKharifEarlyVegetativeMealybugsNoDiseaseNoDeficiency 164\n",
      "CottonKharifEarlyVegetativeLeafHopperNoDiseaseNoDeficiency 311\n",
      "CottonKharifSquaringWhiteFliesNoDiseaseNoDeficiency 22\n",
      "CottonKharifEarlyVegetativeAphidNoDiseaseNoDeficiency 42\n",
      "CottonKharifFloweringLeafHopperNoDiseaseNoDeficiency 43\n",
      "CottonKharifSquaringLeafHopperNoDiseaseNoDeficiency 58\n",
      "CottonKharifTilleringLeafMinor 2\n",
      "CottonKharifEarlyVegetativeCutWormNoDiseaseNoDeficiency 6\n",
      "CottonKharifTilleringLeafHopperNoDiseaseNoDeficiency 18\n",
      "CottonKharifEarlyVegetativeNoDeficiencyNoDiseaseNoDeficiency 2\n",
      "CottonKharifEarlyVegetativeLeafHopperCottonLeafCurlVirusNoDeficiency 10\n",
      "CottonKharifSquaringThripsNoDiseaseNoDeficiency 1\n",
      "CottonKharifEarlyVegetativeWhiteFliesNoDiseaseNoDeficiency 24\n",
      "CottonKharifFloweringWhiteFliesNoDiseaseNoDeficiency 6\n",
      "CottonKharifTilleringWhiteFliesNoDiseaseNoDeficiency 8\n",
      "CottonKharifBollFormationLeafHopperNoDiseaseNoDeficiency 5\n",
      "CottonKharifTilleringLeafHopperAphidNoDiseaseNoDeficiency 1\n",
      "CottonKharifBollFormationWhiteFliesNoDiseaseNoDeficiency 4\n",
      "CottonKharifFloweringAphidNoDiseaseNoDeficiency 1\n",
      "CottonKharifEarlyVegetativeMitesNoDiseaseNoDeficiency 1\n",
      "CottonKharifSquaringWhiteFlyThripsNoDiseaseNoDeficiency 1\n",
      "CottonKharifTilleringAphidNoDiseaseNoDeficiency 2\n",
      "CottonKharifSquaingLeafHopperNoDiseaseNoDeficiency 1\n",
      "CottonKharifBollFormationThripsNoDiseaseNoDeficiency 2\n",
      "CottonKharifSquaringLeafHopperWhiteFliesNoDiseaseNoDeficiency 2\n",
      "CottonKharifFloweringMagnesiumNoDiseaseNoDeficiency 1\n",
      "CottonKharifEarlyVegetativePinkBollwormNoDiseaseNoDeficiency 2\n",
      "CottonKharifEarlyVegetativeThripsNoDiseaseNoDeficiency 1\n",
      "CottonKharifFloweringStageThripsNoDiseaseNoDeficiency 1\n",
      "CottonKharifSquaringThrippsNoDiseaseNoDeficiency 2\n",
      "CottonKharifEarlyFloweringVegetativeLeafHopperNoDiseaseNoDeficiency 1\n",
      "CottonKharifEarlyVegetativeLeafHopperNoDiseaseMagnesium 1\n"
     ]
    }
   ],
   "source": [
    "c =0\n",
    "num = 0\n",
    "for x in Dict:\n",
    "    if \"Cotton\" in x and \"Insect\" not in x:\n",
    "        print(x, Dict[x])"
   ]
  },
  {
   "cell_type": "code",
   "execution_count": 79,
   "metadata": {},
   "outputs": [
    {
     "name": "stdout",
     "output_type": "stream",
     "text": [
      "1111\n"
     ]
    }
   ],
   "source": [
    "c =0\n",
    "num = 0\n",
    "for x in Dict:\n",
    "    if \"Insect\" in x and \"Cotton\" in x:\n",
    "        c=c+1\n",
    "        num = num + Dict[x]\n",
    "\n",
    "print (num)"
   ]
  },
  {
   "cell_type": "code",
   "execution_count": 87,
   "metadata": {},
   "outputs": [
    {
     "name": "stdout",
     "output_type": "stream",
     "text": [
      "7\n"
     ]
    }
   ],
   "source": [
    "c =0\n",
    "num = 0\n",
    "for x in Dict:\n",
    "    if \"Cotton\" in x and \"CutWorm\" in x:\n",
    "        c=c+1\n",
    "        num = num + Dict[x]\n",
    "\n",
    "print (num)"
   ]
  },
  {
   "cell_type": "code",
   "execution_count": 49,
   "metadata": {},
   "outputs": [
    {
     "name": "stdout",
     "output_type": "stream",
     "text": [
      "121\n"
     ]
    }
   ],
   "source": [
    "c =0\n",
    "num = 0\n",
    "for x in Dict:\n",
    "    if \"Cotton\" in x and \"LeafCurl\" in x:\n",
    "        c=c+1\n",
    "        num = num + Dict[x]\n",
    "\n",
    "print (num)"
   ]
  },
  {
   "cell_type": "code",
   "execution_count": 50,
   "metadata": {},
   "outputs": [
    {
     "name": "stdout",
     "output_type": "stream",
     "text": [
      "16\n"
     ]
    }
   ],
   "source": [
    "c =0\n",
    "num = 0\n",
    "for x in Dict:\n",
    "    if \"Cotton\" in x and \"LeafSpot\" in x:\n",
    "        c=c+1\n",
    "        num = num + Dict[x]\n",
    "\n",
    "print (num)"
   ]
  },
  {
   "cell_type": "markdown",
   "metadata": {},
   "source": [
    "## Maize"
   ]
  },
  {
   "cell_type": "code",
   "execution_count": 41,
   "metadata": {},
   "outputs": [
    {
     "name": "stdout",
     "output_type": "stream",
     "text": [
      "MaizeKharifEarlyVegetativeStemBorerNoDiseaseNoDeficiency 228\n",
      "MaizeKharifGrainFillingCobBorerNoDiseaseNoDeficiency 105\n",
      "MaizeKharifGrainFillingNoInsectDownyMildewNoDeficiency 24\n",
      "MaizeLeafspot 1\n",
      "MaizeKharifGrainFillingStemBorerNoDiseaseNoDeficiency 77\n",
      "MaizeKharifGrainFillingNoInsectMaydisLeafBlightNoDeficiency 19\n",
      "MaizeKharifEarlyVegetativeNoInsectNoDiseaseSulphur 48\n",
      "MaizeKharifGrainFillingNoInsectNoDiseaseNoDeficiency 108\n",
      "MaizeKharifTilleringStemBorerNoDiseaseSulphur 6\n",
      "MaizeEarlyKharifLeafSpotLeaf 3\n",
      "MaizeKharifGrainFillingNoInsectNoDiseaseSulphur 11\n",
      "MaizeKharifEarlyVegetativeNoInsectNoDiseaseNoDeficiency 51\n",
      "MaizeEarlyKharifEyeSpot,StemBorerLeaf 3\n",
      "MaizeKharifEarlyVegetativeStemBorerNoDiseaseSulphur 18\n",
      "Maize 9\n",
      "MaizeEarlyKharifLeafBlight,EyeSpotLeaf 1\n",
      "MaizeKharifEarlyVegetativeCobBorerNoDiseaseNoDeficiency 14\n",
      "MaizeEarlyKharifEyeSpotLeaf 9\n",
      "MaizeKharifEarlyVegetativeStemBorerNoInsectNoDiseaseNoDeficiency 2\n",
      "MaizeEarlyKharifHealthyLeaf 1\n",
      "MaizeKharifCobFormationSulfurDeficiencyLeaf 1\n",
      "MaizeKharifGrainFillingNoInsectMaydisLeafBlightDownyMildewNoDeficiency 6\n",
      "MaizeKharifTilleringNoInsectNoDiseaseSulphur 7\n",
      "MaizeEarlyKharifStemBorerLeaf 8\n",
      "MaizeEarlyKharifSulfurDeficiencyLeaf 8\n",
      "MaizeKharifGrainFillingStemBorerNoDiseaseSulphur 10\n",
      "MaizeKharifEarlyVegetativeNoInsectDownyMildewSulphur 1\n",
      "MaizeKharifTilleringStemBorerNoDiseaseNoDeficiency 4\n",
      "MaizeKharifGrainFillingStemBorerDownyMildewNoDeficiency 1\n",
      "MaizeKharifEarlyVegetativeNoInsectNoDiseaseIron 1\n",
      "MaizeKharifGrainFillingNoInsectMaydisLeafBlightSulphur 1\n",
      "MaizeKharifEarlyVegetativeStemBorerPolysoraRustNoDeficiency 1\n",
      "MaizeEarlyKharifStemBorer,EyeSpotLeaf 1\n",
      "MaizeKharifEarlyMaturityCobBorerNoDiseaseNoDeficiency 1\n",
      "MaizeKharifSeedlingStageStemBorerLeaf 1\n",
      "MaizeEarlyKharifLeafSpot,EyeSpotLeaf 1\n",
      "Maizeeyespot 1\n",
      "MaizeEarlyKharifEyeSpot,LeafBlightLeaf 1\n",
      "MaizeKharifEarlyVegetativeNoInsectFusariumStalkRotNoDeficiency 2\n",
      "MaizeKharifEarlyVegetativeCobBorerNoDiseaseIron 1\n",
      "MaizeKharifEarlyVegetativeNoInsectNoDiseasePotash 2\n",
      "MaizeKharifGrainFillingNoDeficiencyDownyMildewNoDeficiency 1\n",
      "MaizeEarlyKharifLeafBlightLeaf 1\n",
      "MaizeKharifGrainFillingStemBorerCobBorerNoDiseaseNoDeficiency 1\n",
      "MaizeEarlyKharifStemBorer,LeafSpotLeaf 1\n",
      "MaizeKharifGrainFillingCobBorerNoDiseaseIron 1\n"
     ]
    }
   ],
   "source": [
    "c =0\n",
    "num = 0\n",
    "for x in Dict:\n",
    "    if \"Maize\" in x:\n",
    "        print(x, Dict[x])"
   ]
  },
  {
   "cell_type": "code",
   "execution_count": 88,
   "metadata": {},
   "outputs": [
    {
     "name": "stdout",
     "output_type": "stream",
     "text": [
      "MaizeKharifGrainFillingNoInsectDownyMildewNoDeficiency 24\n",
      "MaizeLeafspot 1\n",
      "MaizeKharifGrainFillingNoInsectMaydisLeafBlightNoDeficiency 19\n",
      "MaizeEarlyKharifLeafSpotLeaf 3\n",
      "MaizeEarlyKharifEyeSpot,StemBorerLeaf 3\n",
      "Maize 9\n",
      "MaizeEarlyKharifLeafBlight,EyeSpotLeaf 1\n",
      "MaizeEarlyKharifEyeSpotLeaf 9\n",
      "MaizeEarlyKharifHealthyLeaf 1\n",
      "MaizeKharifCobFormationSulfurDeficiencyLeaf 1\n",
      "MaizeKharifGrainFillingNoInsectMaydisLeafBlightDownyMildewNoDeficiency 6\n",
      "MaizeEarlyKharifStemBorerLeaf 8\n",
      "MaizeEarlyKharifSulfurDeficiencyLeaf 8\n",
      "MaizeKharifEarlyVegetativeNoInsectDownyMildewSulphur 1\n",
      "MaizeKharifGrainFillingStemBorerDownyMildewNoDeficiency 1\n",
      "MaizeKharifGrainFillingNoInsectMaydisLeafBlightSulphur 1\n",
      "MaizeKharifEarlyVegetativeStemBorerPolysoraRustNoDeficiency 1\n",
      "MaizeEarlyKharifStemBorer,EyeSpotLeaf 1\n",
      "MaizeKharifSeedlingStageStemBorerLeaf 1\n",
      "MaizeEarlyKharifLeafSpot,EyeSpotLeaf 1\n",
      "Maizeeyespot 1\n",
      "MaizeEarlyKharifEyeSpot,LeafBlightLeaf 1\n",
      "MaizeKharifEarlyVegetativeNoInsectFusariumStalkRotNoDeficiency 2\n",
      "MaizeKharifGrainFillingNoDeficiencyDownyMildewNoDeficiency 1\n",
      "MaizeEarlyKharifLeafBlightLeaf 1\n",
      "MaizeEarlyKharifStemBorer,LeafSpotLeaf 1\n"
     ]
    }
   ],
   "source": [
    "c =0\n",
    "num = 0\n",
    "for x in Dict:\n",
    "    if \"Maize\" in x and \"Disease\" not in x:\n",
    "        print(x, Dict[x])"
   ]
  },
  {
   "cell_type": "code",
   "execution_count": 68,
   "metadata": {},
   "outputs": [
    {
     "name": "stdout",
     "output_type": "stream",
     "text": [
      "MaizeKharifEarlyVegetativeStemBorerNoDiseaseNoDeficiency 228\n",
      "MaizeKharifGrainFillingCobBorerNoDiseaseNoDeficiency 105\n",
      "MaizeLeafspot 1\n",
      "MaizeKharifGrainFillingStemBorerNoDiseaseNoDeficiency 77\n",
      "MaizeKharifTilleringStemBorerNoDiseaseSulphur 6\n",
      "MaizeEarlyKharifLeafSpotLeaf 3\n",
      "MaizeEarlyKharifEyeSpot,StemBorerLeaf 3\n",
      "MaizeKharifEarlyVegetativeStemBorerNoDiseaseSulphur 18\n",
      "Maize 9\n",
      "MaizeEarlyKharifLeafBlight,EyeSpotLeaf 1\n",
      "MaizeKharifEarlyVegetativeCobBorerNoDiseaseNoDeficiency 14\n",
      "MaizeEarlyKharifEyeSpotLeaf 9\n",
      "MaizeEarlyKharifHealthyLeaf 1\n",
      "MaizeKharifCobFormationSulfurDeficiencyLeaf 1\n",
      "MaizeEarlyKharifStemBorerLeaf 8\n",
      "MaizeEarlyKharifSulfurDeficiencyLeaf 8\n",
      "MaizeKharifGrainFillingStemBorerNoDiseaseSulphur 10\n",
      "MaizeKharifTilleringStemBorerNoDiseaseNoDeficiency 4\n",
      "MaizeKharifGrainFillingStemBorerDownyMildewNoDeficiency 1\n",
      "MaizeKharifEarlyVegetativeStemBorerPolysoraRustNoDeficiency 1\n",
      "MaizeEarlyKharifStemBorer,EyeSpotLeaf 1\n",
      "MaizeKharifEarlyMaturityCobBorerNoDiseaseNoDeficiency 1\n",
      "MaizeKharifSeedlingStageStemBorerLeaf 1\n",
      "MaizeEarlyKharifLeafSpot,EyeSpotLeaf 1\n",
      "Maizeeyespot 1\n",
      "MaizeEarlyKharifEyeSpot,LeafBlightLeaf 1\n",
      "MaizeKharifEarlyVegetativeCobBorerNoDiseaseIron 1\n",
      "MaizeKharifGrainFillingNoDeficiencyDownyMildewNoDeficiency 1\n",
      "MaizeEarlyKharifLeafBlightLeaf 1\n",
      "MaizeKharifGrainFillingStemBorerCobBorerNoDiseaseNoDeficiency 1\n",
      "MaizeEarlyKharifStemBorer,LeafSpotLeaf 1\n",
      "MaizeKharifGrainFillingCobBorerNoDiseaseIron 1\n"
     ]
    }
   ],
   "source": [
    "c =0\n",
    "num = 0\n",
    "for x in Dict:\n",
    "    if \"Maize\" in x and \"Insect\" not in x:\n",
    "        print(x, Dict[x])"
   ]
  },
  {
   "cell_type": "code",
   "execution_count": 101,
   "metadata": {},
   "outputs": [
    {
     "name": "stdout",
     "output_type": "stream",
     "text": [
      "MaizeKharifEarlyVegetativeStemBorerNoDiseaseNoDeficiency 228\n",
      "MaizeKharifGrainFillingCobBorerNoDiseaseNoDeficiency 105\n",
      "MaizeLeafspot 1\n",
      "MaizeKharifGrainFillingStemBorerNoDiseaseNoDeficiency 77\n",
      "MaizeKharifTilleringStemBorerNoDiseaseSulphur 6\n",
      "MaizeEarlyKharifLeafSpotLeaf 3\n",
      "MaizeEarlyKharifEyeSpot,StemBorerLeaf 3\n",
      "MaizeKharifEarlyVegetativeStemBorerNoDiseaseSulphur 18\n",
      "Maize 9\n",
      "MaizeEarlyKharifLeafBlight,EyeSpotLeaf 1\n",
      "MaizeKharifEarlyVegetativeCobBorerNoDiseaseNoDeficiency 14\n",
      "MaizeEarlyKharifEyeSpotLeaf 9\n",
      "MaizeEarlyKharifHealthyLeaf 1\n",
      "MaizeKharifCobFormationSulfurDeficiencyLeaf 1\n",
      "MaizeEarlyKharifStemBorerLeaf 8\n",
      "MaizeEarlyKharifSulfurDeficiencyLeaf 8\n",
      "MaizeKharifGrainFillingStemBorerNoDiseaseSulphur 10\n",
      "MaizeKharifTilleringStemBorerNoDiseaseNoDeficiency 4\n",
      "MaizeKharifGrainFillingStemBorerDownyMildewNoDeficiency 1\n",
      "MaizeKharifEarlyVegetativeStemBorerPolysoraRustNoDeficiency 1\n",
      "MaizeEarlyKharifStemBorer,EyeSpotLeaf 1\n",
      "MaizeKharifEarlyMaturityCobBorerNoDiseaseNoDeficiency 1\n",
      "MaizeKharifSeedlingStageStemBorerLeaf 1\n",
      "MaizeEarlyKharifLeafSpot,EyeSpotLeaf 1\n",
      "Maizeeyespot 1\n",
      "MaizeEarlyKharifEyeSpot,LeafBlightLeaf 1\n",
      "MaizeKharifEarlyVegetativeCobBorerNoDiseaseIron 1\n",
      "MaizeKharifGrainFillingNoDeficiencyDownyMildewNoDeficiency 1\n",
      "MaizeEarlyKharifLeafBlightLeaf 1\n",
      "MaizeKharifGrainFillingStemBorerCobBorerNoDiseaseNoDeficiency 1\n",
      "MaizeEarlyKharifStemBorer,LeafSpotLeaf 1\n",
      "MaizeKharifGrainFillingCobBorerNoDiseaseIron 1\n"
     ]
    }
   ],
   "source": [
    "c =0\n",
    "num = 0\n",
    "for x in Dict:\n",
    "    if \"Maize\" in x and \"Insect\" not in x:\n",
    "        print(x, Dict[x])"
   ]
  },
  {
   "cell_type": "code",
   "execution_count": 103,
   "metadata": {},
   "outputs": [
    {
     "name": "stdout",
     "output_type": "stream",
     "text": [
      "484\n"
     ]
    }
   ],
   "source": [
    "c =0\n",
    "num = 0\n",
    "for x in Dict:\n",
    "    if \"Borer\" in x and \"Maize\" in x:\n",
    "        c=c+1\n",
    "        num = num + Dict[x]\n",
    "\n",
    "print (num)"
   ]
  },
  {
   "cell_type": "code",
   "execution_count": 100,
   "metadata": {},
   "outputs": [
    {
     "name": "stdout",
     "output_type": "stream",
     "text": [
      "2\n"
     ]
    }
   ],
   "source": [
    "c =0\n",
    "num = 0\n",
    "for x in Dict:\n",
    "    if \"Maize\" in x and \"Potash\" in x:\n",
    "        num = num + Dict[x]\n",
    "print(num)"
   ]
  },
  {
   "cell_type": "code",
   "execution_count": 39,
   "metadata": {},
   "outputs": [
    {
     "name": "stdout",
     "output_type": "stream",
     "text": [
      "696\n"
     ]
    }
   ],
   "source": [
    "c =0\n",
    "num = 0\n",
    "for x in Dict:\n",
    "    if \"NoDisease\" in x and \"Maize\" in x:\n",
    "        c=c+1\n",
    "        num = num + Dict[x]\n",
    "\n",
    "print (num)"
   ]
  },
  {
   "cell_type": "code",
   "execution_count": 44,
   "metadata": {},
   "outputs": [
    {
     "name": "stdout",
     "output_type": "stream",
     "text": [
      "33\n"
     ]
    }
   ],
   "source": [
    "c =0\n",
    "num = 0\n",
    "for x in Dict:\n",
    "    if \"DownyMildew\" in x and \"Maize\" in x:\n",
    "        c=c+1\n",
    "        num = num + Dict[x]\n",
    "\n",
    "print (num)"
   ]
  },
  {
   "cell_type": "code",
   "execution_count": 42,
   "metadata": {},
   "outputs": [
    {
     "name": "stdout",
     "output_type": "stream",
     "text": [
      "16\n"
     ]
    }
   ],
   "source": [
    "\n",
    "c =0\n",
    "num = 0\n",
    "for x in Dict:\n",
    "    if \"EyeSpot\" in x and \"Maize\" in x:\n",
    "        c=c+1\n",
    "        num = num + Dict[x]\n",
    "\n",
    "print (num)"
   ]
  },
  {
   "cell_type": "markdown",
   "metadata": {},
   "source": [
    "## Red Gram"
   ]
  },
  {
   "cell_type": "code",
   "execution_count": 51,
   "metadata": {},
   "outputs": [
    {
     "name": "stdout",
     "output_type": "stream",
     "text": [
      "RedGramKharifEarlyVegetativeNoInsectSterilityMosaicNoDeficiency 7\n",
      "RedGramKharifEarlyVegetativeNoInsectRedGramYellowMosaicNoDeficiency 9\n",
      "RedGramKharifEarlyVegetativeNoInsectWiltNoDeficiency 4\n",
      "RedGramKharifEarlyVegetativePodBugSterilityMosaicNoDeficiency 1\n",
      "RedGramKharifEarlyVegetativeLeafFolder 1\n"
     ]
    }
   ],
   "source": [
    "c =0\n",
    "num = 0\n",
    "for x in Dict:\n",
    "    if \"RedGram\" in x and \"Disease\" not in x:\n",
    "        print(x, Dict[x])"
   ]
  },
  {
   "cell_type": "code",
   "execution_count": 66,
   "metadata": {},
   "outputs": [
    {
     "name": "stdout",
     "output_type": "stream",
     "text": [
      "RedGramKharifEarlyVegetativeLeafFolder 1\n"
     ]
    }
   ],
   "source": [
    "c =0\n",
    "num = 0\n",
    "for x in Dict:\n",
    "    if \"RedGram\" in x and \"Deficiency\" not in x:\n",
    "        print(x, Dict[x])"
   ]
  },
  {
   "cell_type": "code",
   "execution_count": 72,
   "metadata": {},
   "outputs": [
    {
     "name": "stdout",
     "output_type": "stream",
     "text": [
      "RedGramKharifEarlyVegetativeLeafHopperNoDiseaseNoDeficiency 32\n",
      "RedGramLeafFolderKharifEarlyVegetativeLeafHopperNoDiseaseNoDeficiency 1\n",
      "RedGramKharifEarlyVegetativeCowBugsNoDiseaseNoDeficiency 2\n",
      "RedGramKharifEarlyVegetativeGramPodBorerNoDiseaseNoDeficiency 5\n",
      "RedGramKharifEarlyVegetativePodBugSterilityMosaicNoDeficiency 1\n",
      "RedGramKharifEarlyVegetativeLeafFolderNoDiseaseNoDeficiency 2\n",
      "RedGramKharifEarlyVegetativeLeafFolder 1\n"
     ]
    }
   ],
   "source": [
    "c =0\n",
    "num = 0\n",
    "for x in Dict:\n",
    "    if \"RedGram\" in x and \"Insect\" not in x:\n",
    "        print(x, Dict[x])"
   ]
  },
  {
   "cell_type": "code",
   "execution_count": 107,
   "metadata": {},
   "outputs": [
    {
     "name": "stdout",
     "output_type": "stream",
     "text": [
      "2\n"
     ]
    }
   ],
   "source": [
    "c =0\n",
    "num = 0\n",
    "for x in Dict:\n",
    "    if \"CowBugs\" in x and \"RedGram\" in x:\n",
    "        c=c+1\n",
    "        num = num + Dict[x]\n",
    "\n",
    "print (num)"
   ]
  },
  {
   "cell_type": "code",
   "execution_count": 58,
   "metadata": {},
   "outputs": [
    {
     "name": "stdout",
     "output_type": "stream",
     "text": [
      "17\n"
     ]
    }
   ],
   "source": [
    "c =0\n",
    "num = 0\n",
    "for x in Dict:\n",
    "    if \"Mosaic\" in x and \"RedGram\" in x:\n",
    "        c=c+1\n",
    "        num = num + Dict[x]\n",
    "\n",
    "print (num)"
   ]
  },
  {
   "cell_type": "markdown",
   "metadata": {},
   "source": [
    "# Deficiency"
   ]
  },
  {
   "cell_type": "code",
   "execution_count": 60,
   "metadata": {},
   "outputs": [
    {
     "name": "stdout",
     "output_type": "stream",
     "text": [
      "3373\n"
     ]
    }
   ],
   "source": [
    "c =0\n",
    "num = 0\n",
    "for x in Dict:\n",
    "    if \"NoDeficiency\" in x:\n",
    "        c=c+1\n",
    "        num = num + Dict[x]\n",
    "\n",
    "print (num)"
   ]
  },
  {
   "cell_type": "markdown",
   "metadata": {},
   "source": [
    "## Insect"
   ]
  },
  {
   "cell_type": "code",
   "execution_count": 69,
   "metadata": {},
   "outputs": [
    {
     "name": "stdout",
     "output_type": "stream",
     "text": [
      "2266\n"
     ]
    }
   ],
   "source": [
    "c =0\n",
    "num = 0\n",
    "for x in Dict:\n",
    "    if \"Insect\" in x:\n",
    "        c=c+1\n",
    "        num = num + Dict[x]\n",
    "\n",
    "print (num)"
   ]
  },
  {
   "cell_type": "code",
   "execution_count": 70,
   "metadata": {},
   "outputs": [
    {
     "name": "stdout",
     "output_type": "stream",
     "text": [
      "3395\n"
     ]
    }
   ],
   "source": [
    "c =0\n",
    "num = 0\n",
    "for x in Dict:\n",
    "    if \"Disease\" in x:\n",
    "        c=c+1\n",
    "        num = num + Dict[x]\n",
    "\n",
    "print (num)"
   ]
  },
  {
   "cell_type": "markdown",
   "metadata": {},
   "source": [
    "## Results of the analysis \n",
    "\n",
    "There are 3740 total images, 3395 have no diseases, 3382 have no deficiencies, 2266 have no insects <br>\n",
    "\n",
    "The top crops present in the data are Cotton : 1181, Maize: 803, Red Gram : 506, Rice 350 and Black Gram: 136 <br>\n",
    "\n",
    "Within Cotton: <br>\n",
    "1745 images have no diseases <br>\n",
    "121 have a leaf curl disease <br>\n",
    "16 have a leaf spot disease <br>\n",
    "\n",
    "1848 images have no deficiency <br>\n",
    "24 have a magnesium related deficiency<br> \n",
    "3 have a boron deficiency and 5 have a potash deficiency <br>\n",
    "\n",
    "1111 images have no insects <br>\n",
    "455 leaf hoppers<br>\n",
    "189 have mealy bugs<br>\n",
    "67 white flies <br>\n",
    "7 cut worms <br>\n",
    "\n",
    "\n",
    "Within Maize:<br>\n",
    "\n",
    "696 images have no diseases<br>\n",
    "33 have midlew related diseases<br>\n",
    "29 are blight related diseases<br>\n",
    "16 eye spots<br>\n",
    "5 Leaf spots<br>\n",
    "\n",
    "654 have no deficiency<br>\n",
    "102 have a sulpur deficiency<br>\n",
    "3 have an iron deficiency<br>\n",
    "2 had a potash deficiency<br>\n",
    "\n",
    "283 have have no insects <br>\n",
    "484 have a borer type insect<br>\n",
    "\n",
    "\n",
    "Within Red Gram:<br>\n",
    "<br>\n",
    "544 have no disease<br>\n",
    "17 have a mosaic disease<br>\n",
    "4 have a wilt <br>\n",
    "<br>\n",
    "565 have no deficiency<br>\n",
    "<br>\n",
    "522 have no insects<br>\n",
    "33 leaf hoppers<br>\n",
    "2 cowbugs<br>\n",
    "\n",
    "\n",
    "the reason why some of the values don't add up is because some of the labels are missing certain parts of their label which is why they cannot be classified<br>\n",
    "for example RedGramKharifEarlyVegetativeLeafFolder<br>\n",
    "where we don't know what the disease or deficiency is <br>\n",
    "\n",
    "As for rice and black gram the folders get too small to allow for successful training of an algorithm "
   ]
  },
  {
   "cell_type": "code",
   "execution_count": null,
   "metadata": {},
   "outputs": [],
   "source": []
  }
 ],
 "metadata": {
  "kernelspec": {
   "display_name": "Python 3",
   "language": "python",
   "name": "python3"
  },
  "language_info": {
   "codemirror_mode": {
    "name": "ipython",
    "version": 3
   },
   "file_extension": ".py",
   "mimetype": "text/x-python",
   "name": "python",
   "nbconvert_exporter": "python",
   "pygments_lexer": "ipython3",
   "version": "3.8.3"
  }
 },
 "nbformat": 4,
 "nbformat_minor": 4
}
