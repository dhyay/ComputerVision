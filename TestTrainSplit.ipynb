{
 "cells": [
  {
   "cell_type": "markdown",
   "metadata": {},
   "source": [
    "# Split into test and train data \n",
    "We split all the image data into test and train data <br>\n",
    "We also classify the test and train data into folders based on their labels "
   ]
  },
  {
   "cell_type": "code",
   "execution_count": 54,
   "metadata": {},
   "outputs": [],
   "source": [
    "import os"
   ]
  },
  {
   "cell_type": "code",
   "execution_count": 55,
   "metadata": {},
   "outputs": [],
   "source": [
    "# Lets start by all the images and splitting them into testing and training data and "
   ]
  },
  {
   "cell_type": "code",
   "execution_count": 56,
   "metadata": {},
   "outputs": [
    {
     "name": "stdout",
     "output_type": "stream",
     "text": [
      "3740\n"
     ]
    }
   ],
   "source": [
    "c = 0\n",
    "for count, filename in enumerate(os.listdir(\"agroimages/combined_images\")):\n",
    "    c = c+1\n",
    "print(c)"
   ]
  },
  {
   "cell_type": "markdown",
   "metadata": {},
   "source": [
    "We have 3739 images lets split them using an 80-20 ratio \n",
    "2992 training and 747 testing images "
   ]
  },
  {
   "cell_type": "code",
   "execution_count": 57,
   "metadata": {},
   "outputs": [],
   "source": [
    "import math\n",
    "import shutil"
   ]
  },
  {
   "cell_type": "code",
   "execution_count": 58,
   "metadata": {},
   "outputs": [
    {
     "name": "stdout",
     "output_type": "stream",
     "text": [
      "2992\n"
     ]
    }
   ],
   "source": [
    "num_test = c*0.80\n",
    "num_test = math.ceil(num_test)\n",
    "print(num_test)"
   ]
  },
  {
   "cell_type": "code",
   "execution_count": 59,
   "metadata": {},
   "outputs": [
    {
     "name": "stdout",
     "output_type": "stream",
     "text": [
      "748\n"
     ]
    }
   ],
   "source": [
    "num_train = c*0.20\n",
    "num_train = math.floor(num_train)\n",
    "print(num_train)"
   ]
  },
  {
   "cell_type": "code",
   "execution_count": 78,
   "metadata": {},
   "outputs": [],
   "source": [
    "# copying images into test and train folders"
   ]
  },
  {
   "cell_type": "code",
   "execution_count": 60,
   "metadata": {},
   "outputs": [
    {
     "name": "stdout",
     "output_type": "stream",
     "text": [
      "gotcha\n",
      "3740\n"
     ]
    }
   ],
   "source": [
    "parent_dir = \"agroimages\"\n",
    "c = 1\n",
    "for count, filename in enumerate(os.listdir(\"agroimages/combined_images\")):\n",
    "    if filename == '.ipynb_checkpoints':\n",
    "        print(\"gotcha\")\n",
    "    else:\n",
    "        if filename != 'Test' or filename != 'Train':\n",
    "            if c <= num_test:\n",
    "                path = os.path.join(parent_dir, \"Test\")\n",
    "                shutil.copy(\"agroimages/Combined_images/\" + filename, path)\n",
    "                c = c+1\n",
    "            else: \n",
    "                path = os.path.join(parent_dir, \"Train\")\n",
    "                shutil.copy(\"agroimages/Combined_images/\" + filename, path)\n",
    "                c = c+1\n",
    "print(c)"
   ]
  },
  {
   "cell_type": "markdown",
   "metadata": {},
   "source": [
    "This seems to work fine now we need to split the test and train data\n",
    "into their respective folders based on label which will allow our classifier to train the data."
   ]
  },
  {
   "cell_type": "code",
   "execution_count": 61,
   "metadata": {},
   "outputs": [],
   "source": [
    "def remove_ints(m):\n",
    "    if m[-1].isalpha():\n",
    "        return m\n",
    "    else:\n",
    "        return remove_ints(m[:-1])"
   ]
  },
  {
   "cell_type": "code",
   "execution_count": 62,
   "metadata": {},
   "outputs": [],
   "source": [
    "import re\n",
    "def remove_second_group(m):\n",
    "    \"\"\" Return only group 1 from the match object\n",
    "        Delete other groups \"\"\"\n",
    "    return m.group(1)"
   ]
  },
  {
   "cell_type": "markdown",
   "metadata": {},
   "source": [
    "# Testing data split"
   ]
  },
  {
   "cell_type": "code",
   "execution_count": 63,
   "metadata": {},
   "outputs": [
    {
     "name": "stdout",
     "output_type": "stream",
     "text": [
      "152\n"
     ]
    }
   ],
   "source": [
    "number = 5000\n",
    "Dict = {}\n",
    "for count, filename in enumerate(os.listdir(\"agroimages/Test\")):\n",
    "    if count>= number:\n",
    "        break\n",
    "    else:\n",
    "        result = re.sub(\"(.*)(.{4}$)\", remove_second_group, filename) # remove the .jpg from the name\n",
    "        # now we need to get rid of the numbers at the end\n",
    "        result = remove_ints(result)\n",
    "        result = result.title() # capitalizes after space to fix errors\n",
    "        result = result.replace(\" \", \"\")\n",
    "        if result not in Dict.keys():\n",
    "            Dict[result] = 1\n",
    "        else:\n",
    "            Dict[result] = Dict[result]+1\n",
    "print(len(Dict.keys()))"
   ]
  },
  {
   "cell_type": "code",
   "execution_count": 64,
   "metadata": {},
   "outputs": [
    {
     "name": "stdout",
     "output_type": "stream",
     "text": [
      "MaizeKharifEarlyVegetativeStemBorerNoDiseaseNoDeficiency 174\n",
      "RedGramKharifEarlyVegetativeNoInsectNoDiseaseNoDeficiency 394\n",
      "CottonKharifSquaringMealybugsNoDiseaseNoDeficiency 20\n",
      "CottonKharifEarlyVegetativeNoInsectNoDiseaseNoDeficiency 426\n",
      "MaizeKharifGrainFillingCobBorerNoDiseaseNoDeficiency 86\n",
      "CottonKharifEarlyVegetativeMealybugsNoDiseaseNoDeficiency 134\n",
      "CottonKharifTilleringNoInsectNoDiseaseNoDeficiency 20\n",
      "MaizeKharifGrainFillingNoInsectDownyMildewNoDeficiency 19\n",
      "BlackGramKharifEarlyMaturityNoInsectOthersNoDeficiency 3\n",
      "MaizeLeafspot 1\n",
      "MaizeKharifGrainFillingStemBorerNoDiseaseNoDeficiency 58\n",
      "CottonKharifEarlyVegetativeLeafHopperNoDiseaseNoDeficiency 255\n",
      "CottonKharifEarlyVegetativeNoInsectCottonLeafCurlVirusNoDeficiency 53\n",
      "CottonKharifSquaringNoInsectNoDiseaseNoDeficiency 293\n",
      "RedGramKharifEarlyVegetativeNoInsectSterilityMosaicNoDeficiency 6\n",
      "CottonKharifSquaringWhiteFliesNoDiseaseNoDeficiency 18\n",
      "MaizeKharifGrainFillingNoInsectMaydisLeafBlightNoDeficiency 11\n",
      "RiceKharifEarlyVegetativeNoInsectNoDiseasePotash 112\n",
      "MaizeKharifEarlyVegetativeNoInsectNoDiseaseSulphur 39\n",
      "RiceKharifTilleringStemborerNoDiseaseNoDeficiency 11\n",
      "BlackGramKharifTilleringNoInsectNoDiseaseNoDeficiency 10\n",
      "CottonKharifEarlyVegetativeAphidNoDiseaseNoDeficiency 30\n",
      "CottonKharifFloweringLeafHopperNoDiseaseNoDeficiency 37\n",
      "RiceKharifEarlyVegetativeNoInsectNoDiseaseNoDeficiency 51\n",
      "MaizeKharifGrainFillingNoInsectNoDiseaseNoDeficiency 80\n",
      "CottonKharifEarlyVegetativeNoInsectNoDiseaseMagnesiumPotash 8\n",
      "CottonKharifEarlyFloweringVegetativeNoInsectNoDiseaseNoDeficiency 1\n",
      "MaizeKharifTilleringStemBorerNoDiseaseSulphur 5\n",
      "CottonKharifSquaringLeafHopperNoDiseaseNoDeficiency 48\n",
      "CottonKharifTilleringLeafMinor 2\n",
      "RedGramKharifEarlyVegetativeLeafHopperNoDiseaseNoDeficiency 26\n",
      "MaizeEarlyKharifLeafSpotLeaf 1\n",
      "MaizeKharifGrainFillingNoInsectNoDiseaseSulphur 7\n",
      "MaizeKharifEarlyVegetativeNoInsectNoDiseaseNoDeficiency 40\n",
      "RedGramKharifEarlyVegetativeNoInsectRedGramYellowMosaicNoDeficiency 5\n",
      "CottonKharifFloweringNoInsectNoDiseaseNoDeficiency 25\n",
      "BlackGramKharifEarlyMaturityOtherNoDiseaseNoDeficiency 2\n",
      "CottonKharifTilleringNoInsectCottonLeafCurlVirusNoDeficiency 15\n",
      "RiceKharifTilleringGrassHopperNoDiseaseNoDeficiency 8\n",
      "CottonKharifEarlyVegetativeCutWormNoDiseaseNoDeficiency 5\n",
      "RiceKharifEarlyVegetativeLeafFolderNoDiseaseNoDeficiency 17\n",
      "CottonKharifTilleringLeafHopperNoDiseaseNoDeficiency 14\n",
      "RiceKharifTilleringNoInsectNoDiseaseNoDeficiency 27\n",
      "CottonKharifSquaringNoInsectCottonLeafCurlVirusNoDeficiency 19\n",
      "BlackGramKharifFloweringPodBorerOthersNoDeficiency 4\n",
      "MaizeEarlyKharifEyeSpot,StemBorerLeaf 3\n",
      "BlackGramKharifFloweringNoInsectYellowMosaicVirusNoDeficiency 8\n",
      "MaizeKharifEarlyVegetativeStemBorerNoDiseaseSulphur 15\n",
      "Maize 7\n",
      "CottonKharifEarlyVegetativeNoDeficiencyNoDiseaseNoDeficiency 2\n",
      "CottonKharifEarlyVegetativeLeafHopperCottonLeafCurlVirusNoDeficiency 8\n",
      "MaizeEarlyKharifLeafBlight,EyeSpotLeaf 1\n",
      "CottonKharifSquaringThripsNoDiseaseNoDeficiency 1\n",
      "BlackGramKharifTilleringNoInsectOthersNoDeficiency 14\n",
      "CottonKharifEarlyVegetativeWhiteFliesNoDiseaseNoDeficiency 20\n",
      "BlackGramKharifFloweringNoInsectOthersNoDeficiency 11\n",
      "RiceKharifTilleringLeafFolderNoDiseaseNoDeficiency 5\n",
      "CottonKharifFloweringWhiteFliesNoDiseaseNoDeficiency 5\n",
      "BlackGramKharifEarlyMaturityOtherGrassHopper 3\n",
      "RiceKharifTilleringNoInsectNoDiseasePotash 20\n",
      "BlackGramKharifFloweringYellowMosaicVirusNoDeficiency 1\n",
      "CottonKharifEarlyVegetativeNoInsectNoDiseaseMagnesium 12\n",
      "MaizeKharifEarlyVegetativeCobBorerNoDiseaseNoDeficiency 11\n",
      "MaizeEarlyKharifEyeSpotLeaf 6\n",
      "CottonKharifEarlyVegetativeNoInsectNoDiseaseBoron 2\n",
      "RiceKharifEarlyVegetativeRiceHispaNoDiseaseNoDeficiency 21\n",
      "MaizeKharifEarlyVegetativeStemBorerNoInsectNoDiseaseNoDeficiency 2\n",
      "CottonKharifEarlyVegetativeLeafHopperNoInsectNoDiseaseNoDeficiency 3\n",
      "CottonKharifTilleringWhiteFliesNoDiseaseNoDeficiency 7\n",
      "CottonKharifBollFormationLeafHopperNoDiseaseNoDeficiency 5\n",
      "RiceKharifTilleringRiceHispaNoDiseaseNoDeficiency 8\n",
      "CottonKharifSqaringNoInsectNoDiseaseNoDeficiency 5\n",
      "MaizeEarlyKharifHealthyLeaf 1\n",
      "BlackGramKharifFloweringNoInsectNoDiseaseNoDeficiency 6\n",
      "BlackGramKharifEarlyVegetativeOtherNoDiseaseNoDeficiency 15\n",
      "MaizeKharifCobFormationSulfurDeficiencyLeaf 1\n",
      ".Ds_S 1\n",
      "MaizeKharifGrainFillingNoInsectMaydisLeafBlightDownyMildewNoDeficiency 6\n",
      "MaizeKharifTilleringNoInsectNoDiseaseSulphur 6\n",
      "CottonKharifFloweringNoInsectCottonLeafCurlVirusNoDeficiency 2\n",
      "MaizeEarlyKharifStemBorerLeaf 5\n",
      "CottonKharifTilleringLeafHopperAphidNoDiseaseNoDeficiency 1\n",
      "CottonKharifEarlyVegetativeNoInsectAlternariaLeafSpotNoDeficiency 11\n",
      "CottonKharifBollFormationWhiteFliesNoDiseaseNoDeficiency 4\n",
      "CottonKharifFloweringAphidNoDiseaseNoDeficiency 1\n",
      "CottonKharifEarlyVegetativeMitesNoDiseaseNoDeficiency 1\n",
      "CottonKarifSquaringNoInsectNoDiseaseNoDeficiency 1\n",
      "BlackGramKharifTilleringNoInsectYellowMosaicVirusNoDeficiency 9\n",
      "CottonKharifSquaringWhiteFlyThripsNoDiseaseNoDeficiency 1\n",
      "CottonKharifSqaureFormationNoInsectNoDiseaseNoDeficiency 1\n",
      "BlackGramKharifTilleringNoInsectCercosporaLeafSpotOthersNoDeficiency 1\n",
      "BlackGramKharifFloweringNoInsectCercosporaLeafSpotNoDeficiency 1\n",
      "MaizeEarlyKharifSulfurDeficiencyLeaf 8\n",
      "CottonKharifEarlyVegetativeNoInsectNoDiseasePotash 4\n",
      "BlackGramKharifEarlyMaturityStinkBugsNoDiseaseNoDeficiency 2\n",
      "CottonKharifSquaringMealybugsNoInsectNoDiseaseNoDeficiency 1\n",
      "CottonKharifTilleringAphidNoDiseaseNoDeficiency 2\n",
      "MaizeKharifGrainFillingStemBorerNoDiseaseSulphur 6\n",
      "MaizeKharifEarlyVegetativeNoInsectDownyMildewSulphur 1\n",
      "BlackGramKharifFloweringPodBorerNoDiseaseNoDeficiency 3\n",
      "MaizeKharifTilleringStemBorerNoDiseaseNoDeficiency 4\n",
      "CottonKharifSquaingLeafHopperNoDiseaseNoDeficiency 1\n",
      "CottonKharifEarlyVegetativeCutWormNoInsectNoDiseaseNoDeficiency 1\n",
      "MaizeKharifGrainFillingStemBorerDownyMildewNoDeficiency 1\n",
      "CottonKharifBollFormationThripsNoDiseaseNoDeficiency 1\n",
      "BlackGramKharifFloweringOtherNoDiseaseNoDeficiency 3\n",
      "BlackGramKharifTilleringOtherNoDiseaseNoDeficiency 1\n",
      "BlackGramKharifTilleringNoInsectCercosporaLeafSpotNoDiseaseNoDeficiency 2\n",
      "CottonKharifEarlyVegetativeNoInsectCottonLeafCurlVirusNoDiseaseNoDeficiency 1\n",
      "RedGramLeafFolderKharifEarlyVegetativeLeafHopperNoDiseaseNoDeficiency 1\n",
      "CottonKharifSquaringLeafHopperNoInsectNoDiseaseNoDeficiency 1\n",
      "RedGramKharifEarlyVegetativeNoInsectWiltNoDeficiency 1\n",
      "CottonSquaringNoInsectNoDiseaseNoDeficiency 1\n",
      "BlackGramKharifFloweringNoInsectAlternariaLeafSpotNoDeficiency 1\n",
      "MaizeKharifEarlyVegetativeNoInsectNoDiseaseIron 1\n",
      "MaizeKharifGrainFillingNoInsectMaydisLeafBlightSulphur 1\n",
      "MaizeKharifEarlyVegetativeStemBorerPolysoraRustNoDeficiency 1\n",
      "RedGramKharifEarlyVegetativeCowBugsNoDiseaseNoDeficiency 2\n",
      "MaizeEarlyKharifStemBorer,EyeSpotLeaf 1\n",
      "MaizeKharifEarlyMaturityCobBorerNoDiseaseNoDeficiency 1\n",
      "MaizeKharifSeedlingStageStemBorerLeaf 1\n",
      "MaizeEarlyKharifLeafSpot,EyeSpotLeaf 1\n",
      "BlackGramKharifEarlyVegetativeOtherNoDiseaseZinc 1\n",
      "CottonKharifEarlyVegetativeNoInsectAlternariaLeafSpotNoDiseaseNoDeficiency 2\n",
      "Maizeeyespot 1\n",
      "RiceKharifNurseryLeafFolderNoDiseaseNoDeficiency 1\n",
      "MaizeEarlyKharifEyeSpot,LeafBlightLeaf 1\n",
      "RedGramKharifEarlyVegetativeGramPodBorerNoDiseaseNoDeficiency 4\n",
      "RiceKharifTilleringRiceHispaNoDiseasePotash 1\n",
      "CottonKharifSquaringLeafHopperWhiteFliesNoDiseaseNoDeficiency 2\n",
      "RiceKharifEarlyVegetativeStemborerNoDiseaseNoDeficiency 1\n",
      "MaizeKharifEarlyVegetativeNoInsectFusariumStalkRotNoDeficiency 1\n",
      "MaizeKharifEarlyVegetativeCobBorerNoDiseaseIron 1\n",
      "BlackGramKharifTilleringNoInsectOthersOthers 1\n",
      "CottonKharifFloweringMagnesiumNoDiseaseNoDeficiency 1\n",
      "RedGramKharifEarlyVegetativePodBugSterilityMosaicNoDeficiency 1\n",
      "RedGramKharifEarlyVegetativeLeafFolderNoDiseaseNoDeficiency 1\n",
      "CottonKharifSquar8NgNoInsectNoDiseaseNoDeficiency 1\n",
      "BlackGramKharifEarlyMaturityAlternaria 1\n",
      "MaizeKharifEarlyVegetativeNoInsectNoDiseasePotash 1\n",
      "BlackGramKhariffFloweringNoInsectCercosporaLeafSpotNoDeficiency 1\n",
      "KharifSeedlingStageStemBorerLeaf 1\n",
      "CottonKharifEarlyVegetativePinkBollwormNoDiseaseNoDeficiency 1\n",
      "MaizeKharifGrainFillingNoDeficiencyDownyMildewNoDeficiency 1\n",
      "BlackGramKharifEarlyMaturityOtherCercosporaLeafSpotYellowMosaicVirusNoDeficiency 1\n",
      "RedGramKharifEarlyVegetativeLeafFolder 1\n",
      "CottonKharifEarlyVegetativeThripsNoDiseaseNoDeficiency 1\n",
      "BlackGramKharifTilleringNoInsectCercosporaLeafSpotNoDeficiency 1\n",
      "RedGramKharifEarlyVegetativeGramPodBorerNoInsectNoDiseaseNoDeficiency 1\n",
      "MaizeEarlyKharifLeafBlightLeaf 1\n",
      "MaizeKharifGrainFillingStemBorerCobBorerNoDiseaseNoDeficiency 1\n",
      "RiceKharifEarlyVegetativeRiceHispaNoInsectNoDiseaseNoDeficiency 1\n"
     ]
    }
   ],
   "source": [
    "for x in Dict:\n",
    "    print (x, Dict[x])"
   ]
  },
  {
   "cell_type": "markdown",
   "metadata": {},
   "source": [
    "## Creating folders now"
   ]
  },
  {
   "cell_type": "code",
   "execution_count": 65,
   "metadata": {},
   "outputs": [],
   "source": [
    "number = 5000\n",
    "# Parent Directory path\n",
    "parent_dir = \"agroimages/Test_Classified\"\n",
    "Dict = {}\n",
    "for count, filename in enumerate(os.listdir(\"agroimages/Test\")):\n",
    "    \n",
    "    result = re.sub(\"(.*)(.{4}$)\", remove_second_group, filename) # remove the .jpg from the name\n",
    "    # now we need to get rid of the numbers at the end\n",
    "    result = remove_ints(result)\n",
    "    result = result.title()\n",
    "    result = result.replace(\" \", \"\") # removes spaces\n",
    "    \n",
    "    if result not in Dict.keys():\n",
    "        Dict[result] = 1\n",
    "    else:\n",
    "        Dict[result] = Dict[result]+1\n",
    "\n",
    "    #shutil.copy(\"agroimages/Combined_images/\" + filename, path)\n"
   ]
  },
  {
   "cell_type": "code",
   "execution_count": 66,
   "metadata": {},
   "outputs": [],
   "source": [
    "### making folders"
   ]
  },
  {
   "cell_type": "code",
   "execution_count": 67,
   "metadata": {},
   "outputs": [],
   "source": [
    "for x in Dict.keys():\n",
    "    directory = x\n",
    "    path = os.path.join(parent_dir, directory)\n",
    "    os.makedirs(path, exist_ok=True)    # creates the path"
   ]
  },
  {
   "cell_type": "code",
   "execution_count": 68,
   "metadata": {},
   "outputs": [],
   "source": [
    "### populating the folders"
   ]
  },
  {
   "cell_type": "code",
   "execution_count": 69,
   "metadata": {},
   "outputs": [],
   "source": [
    "number = 5000\n",
    "# Parent Directory path\n",
    "parent_dir = \"agroimages/Test_Classified\"\n",
    "Dict = {}\n",
    "for count, filename in enumerate(os.listdir(\"agroimages/Test\")):\n",
    "    \n",
    "    result = re.sub(\"(.*)(.{4}$)\", remove_second_group, filename) # remove the .jpg from the name\n",
    "    # now we need to get rid of the numbers at the end\n",
    "    result = remove_ints(result)\n",
    "    result = result.title()\n",
    "    result = result.replace(\" \", \"\")\n",
    "    if result not in Dict.keys():\n",
    "        Dict[result] = 1\n",
    "    else:\n",
    "        Dict[result] = Dict[result]+1\n",
    "    if \"agroimages/Test/\" + filename != 'agroimages/Combined_images/.ipynb_checkpoints':\n",
    "        path = os.path.join(parent_dir, result)\n",
    "        shutil.copy(\"agroimages/Combined_images/\" + filename, path)\n"
   ]
  },
  {
   "cell_type": "markdown",
   "metadata": {},
   "source": [
    "## Testing classificartion is done"
   ]
  },
  {
   "cell_type": "markdown",
   "metadata": {},
   "source": [
    "# Moving onto training data"
   ]
  },
  {
   "cell_type": "code",
   "execution_count": 70,
   "metadata": {},
   "outputs": [
    {
     "name": "stdout",
     "output_type": "stream",
     "text": [
      "159\n"
     ]
    }
   ],
   "source": [
    "number = 5000\n",
    "Dict = {}\n",
    "for count, filename in enumerate(os.listdir(\"agroimages/Train\")):\n",
    "    if count>= number:\n",
    "        break\n",
    "    else:\n",
    "        result = re.sub(\"(.*)(.{4}$)\", remove_second_group, filename) # remove the .jpg from the name\n",
    "        # now we need to get rid of the numbers at the end\n",
    "        result = remove_ints(result)\n",
    "        result = result.title() # capitalizes after space to fix errors\n",
    "        result = result.replace(\" \", \"\")\n",
    "        if result not in Dict.keys():\n",
    "            Dict[result] = 1\n",
    "        else:\n",
    "            Dict[result] = Dict[result]+1\n",
    "print(len(Dict.keys()))"
   ]
  },
  {
   "cell_type": "code",
   "execution_count": 71,
   "metadata": {},
   "outputs": [],
   "source": [
    "# we have a lot more folders here so we would need to take care of it \n",
    "# it occurs because we have only 1-2 images for. lot of diseases"
   ]
  },
  {
   "cell_type": "markdown",
   "metadata": {},
   "source": [
    "## Creating the dict"
   ]
  },
  {
   "cell_type": "code",
   "execution_count": 72,
   "metadata": {},
   "outputs": [],
   "source": [
    "number = 5000\n",
    "# Parent Directory path\n",
    "parent_dir = \"agroimages/Train_Classified\"\n",
    "Dict = {}\n",
    "for count, filename in enumerate(os.listdir(\"agroimages/Train\")):\n",
    "    \n",
    "    result = re.sub(\"(.*)(.{4}$)\", remove_second_group, filename) # remove the .jpg from the name\n",
    "    # now we need to get rid of the numbers at the end\n",
    "    result = remove_ints(result)\n",
    "    result = result.title()\n",
    "    result = result.replace(\" \", \"\") # removes spaces\n",
    "    \n",
    "    if result not in Dict.keys():\n",
    "        Dict[result] = 1\n",
    "    else:\n",
    "        Dict[result] = Dict[result]+1\n",
    "\n",
    "    #shutil.copy(\"agroimages/Combined_images/\" + filename, path)\n"
   ]
  },
  {
   "cell_type": "code",
   "execution_count": 73,
   "metadata": {},
   "outputs": [
    {
     "name": "stdout",
     "output_type": "stream",
     "text": [
      ".Ds_S 1\n",
      "RedGramKharifEarlyVegetativeNoInsectNoDiseaseNoDeficiency 433\n",
      "MaizeKharifEarlyVegetativeStemBorerNoDiseaseNoDeficiency 197\n",
      "BlackGramKharifEarlyMaturityOtherGrassHopper 2\n",
      "CottonKharifFloweringNoInsectCottonLeafCurlVirusNoDeficiency 4\n",
      "CottonKharifEarlyVegetativeNoInsectNoDiseaseNoDeficiency 420\n",
      "CottonKharifEarlyVegetativeNoInsectCottonLeafCurlVirusNoDeficiency 50\n",
      "CottonKharifSquaringWhiteFliesNoDiseaseNoDeficiency 19\n",
      "MaizeKharifEarlyVegetativeStemBorerNoDiseaseSulphur 17\n",
      "RedGramKharifEarlyVegetativeLeafHopperNoDiseaseNoDeficiency 28\n",
      "CottonKharifEarlyVegetativeLeafHopperNoDiseaseNoDeficiency 255\n",
      "CottonKharifSquaringNoInsectNoDiseaseNoDeficiency 300\n",
      "RiceKharifEarlyVegetativeNoInsectNoDiseasePotash 116\n",
      "MaizeKharifEarlyVegetativeNoInsectNoDiseaseNoDeficiency 43\n",
      "MaizeKharifGrainFillingCobBorerNoDiseaseNoDeficiency 92\n",
      "MaizeKharifGrainFillingNoInsectNoDiseaseNoDeficiency 88\n",
      "CottonKharifTilleringLeafHopperNoDiseaseNoDeficiency 15\n",
      "CottonKharifEarlyVegetativeMealybugsNoDiseaseNoDeficiency 138\n",
      "RiceKharifEarlyVegetativeNoInsectNoDiseaseNoDeficiency 50\n",
      "BlackGramKharifEarlyVegetativeOtherNoDiseaseNoDeficiency 14\n",
      "CottonKharifEarlyVegetativeAphidNoDiseaseNoDeficiency 38\n",
      "MaizeKharifGrainFillingStemBorerNoDiseaseNoDeficiency 68\n",
      "MaizeEarlyKharifStemBorerLeaf 8\n",
      "RiceKharifTilleringRiceHispaNoDiseaseNoDeficiency 8\n",
      "MaizeKharifEarlyVegetativeCobBorerNoDiseaseNoDeficiency 10\n",
      "RiceKharifTilleringGrassHopperNoDiseaseNoDeficiency 8\n",
      "CottonKharifSquaringMealybugsNoDiseaseNoDeficiency 19\n",
      "CottonKharifSquaringLeafHopperNoDiseaseNoDeficiency 49\n",
      "CottonKharifTilleringLeafHopperAphidNoDiseaseNoDeficiency 1\n",
      "CottonKharifFloweringLeafHopperNoDiseaseNoDeficiency 32\n",
      "BlackGramKharifEarlyMaturityNoInsectOthersNoDeficiency 3\n",
      "MaizeKharifTilleringStemBorerNoDiseaseSulphur 4\n",
      "CottonKharifEarlyVegetativeNoInsectAlternariaLeafSpotNoDeficiency 14\n",
      "CottonKharifBollFormationWhiteFliesNoDiseaseNoDeficiency 4\n",
      "MaizeKharifGrainFillingNoInsectDownyMildewNoDeficiency 20\n",
      "CottonKharifTilleringNoInsectNoDiseaseNoDeficiency 21\n",
      "BlackGramKharifTilleringNoInsectNoDiseaseNoDeficiency 14\n",
      "CottonKharifFloweringAphidNoDiseaseNoDeficiency 1\n",
      "CottonKharifEarlyVegetativeNoInsectNoDiseaseMagnesiumPotash 8\n",
      "CottonKharifEarlyVegetativeNoInsectNoDiseaseMagnesium 11\n",
      "RiceKharifTilleringNoInsectNoDiseaseNoDeficiency 26\n",
      "MaizeKharifEarlyVegetativeNoInsectNoDiseaseSulphur 41\n",
      "RiceKharifTilleringNoInsectNoDiseasePotash 20\n",
      "CottonKharifSquaringNoInsectCottonLeafCurlVirusNoDeficiency 18\n",
      "MaizeKharifGrainFillingNoInsectMaydisLeafBlightNoDeficiency 16\n",
      "BlackGramKharifFloweringNoInsectYellowMosaicVirusNoDeficiency 9\n",
      "CottonKharifEarlyVegetativeWhiteFliesNoDiseaseNoDeficiency 22\n",
      "CottonKharifEarlyVegetativeMitesNoDiseaseNoDeficiency 1\n",
      "CottonKharifFloweringNoInsectNoDiseaseNoDeficiency 27\n",
      "RiceKharifEarlyVegetativeRiceHispaNoDiseaseNoDeficiency 20\n",
      "MaizeKharifGrainFillingNoInsectNoDiseaseSulphur 9\n",
      "CottonKarifSquaringNoInsectNoDiseaseNoDeficiency 1\n",
      "CottonKharifEarlyVegetativeLeafHopperCottonLeafCurlVirusNoDeficiency 8\n",
      "CottonKharifTilleringNoInsectCottonLeafCurlVirusNoDeficiency 23\n",
      "BlackGramKharifTilleringNoInsectYellowMosaicVirusNoDeficiency 13\n",
      "CottonKharifFloweringWhiteFliesNoDiseaseNoDeficiency 4\n",
      "BlackGramKharifFloweringNoInsectOthersNoDeficiency 12\n",
      "CottonKharifTilleringWhiteFliesNoDiseaseNoDeficiency 7\n",
      "CottonKharifSquaringWhiteFlyThripsNoDiseaseNoDeficiency 1\n",
      "CottonKharifSqaureFormationNoInsectNoDiseaseNoDeficiency 1\n",
      "BlackGramKharifTilleringNoInsectCercosporaLeafSpotOthersNoDeficiency 1\n",
      "RiceKharifTilleringStemborerNoDiseaseNoDeficiency 13\n",
      "MaizeKharifTilleringNoInsectNoDiseaseSulphur 6\n",
      "BlackGramKharifFloweringNoInsectCercosporaLeafSpotNoDeficiency 1\n",
      "Maize 7\n",
      "BlackGramKharifFloweringNoInsectNoDiseaseNoDeficiency 8\n",
      "CottonKharifBollFormationLeafHopperNoDiseaseNoDeficiency 4\n",
      "RedGramKharifEarlyVegetativeNoInsectRedGramYellowMosaicNoDeficiency 7\n",
      "MaizeEarlyKharifEyeSpotLeaf 7\n",
      "MaizeEarlyKharifSulfurDeficiencyLeaf 8\n",
      "RiceKharifEarlyVegetativeLeafFolderNoDiseaseNoDeficiency 17\n",
      "CottonKharifEarlyVegetativeNoInsectNoDiseasePotash 5\n",
      "CottonKharifSqaringNoInsectNoDiseaseNoDeficiency 3\n",
      "CottonKharifEarlyVegetativeCutWormNoDiseaseNoDeficiency 4\n",
      "MaizeKharifGrainFillingNoInsectMaydisLeafBlightDownyMildewNoDeficiency 5\n",
      "BlackGramKharifTilleringNoInsectOthersNoDeficiency 10\n",
      "BlackGramKharifEarlyMaturityStinkBugsNoDiseaseNoDeficiency 2\n",
      "BlackGramKharifFloweringPodBorerOthersNoDeficiency 2\n",
      "CottonKharifSquaringMealybugsNoInsectNoDiseaseNoDeficiency 1\n",
      "CottonKharifTilleringAphidNoDiseaseNoDeficiency 2\n",
      "RiceKharifTilleringLeafFolderNoDiseaseNoDeficiency 10\n",
      "MaizeKharifGrainFillingStemBorerNoDiseaseSulphur 10\n",
      "MaizeKharifEarlyVegetativeNoInsectDownyMildewSulphur 1\n",
      "BlackGramKharifFloweringPodBorerNoDiseaseNoDeficiency 4\n",
      "MaizeKharifTilleringStemBorerNoDiseaseNoDeficiency 4\n",
      "CottonKharifSquaingLeafHopperNoDiseaseNoDeficiency 1\n",
      "CottonKharifEarlyVegetativeCutWormNoInsectNoDiseaseNoDeficiency 1\n",
      "MaizeKharifGrainFillingStemBorerDownyMildewNoDeficiency 1\n",
      "MaizeEarlyKharifEyeSpot,StemBorerLeaf 2\n",
      "CottonKharifBollFormationThripsNoDiseaseNoDeficiency 2\n",
      "BlackGramKharifFloweringOtherNoDiseaseNoDeficiency 4\n",
      "BlackGramKharifTilleringOtherNoDiseaseNoDeficiency 1\n",
      "BlackGramKharifTilleringNoInsectCercosporaLeafSpotNoDiseaseNoDeficiency 2\n",
      "CottonKharifEarlyVegetativeNoInsectCottonLeafCurlVirusNoDiseaseNoDeficiency 1\n",
      "RedGramLeafFolderKharifEarlyVegetativeLeafHopperNoDiseaseNoDeficiency 1\n",
      "CottonKharifSquaringLeafHopperNoInsectNoDiseaseNoDeficiency 1\n",
      "RedGramKharifEarlyVegetativeNoInsectWiltNoDeficiency 4\n",
      "RedGramKharifEarlyVegetativeNoInsectSterilityMosaicNoDeficiency 3\n",
      "CottonSquaringNoInsectNoDiseaseNoDeficiency 1\n",
      "BlackGramKharifFloweringNoInsectAlternariaLeafSpotNoDeficiency 1\n",
      "MaizeKharifEarlyVegetativeNoInsectNoDiseaseIron 1\n",
      "MaizeKharifGrainFillingNoInsectMaydisLeafBlightSulphur 1\n",
      "BlackGramKharifEarlyMaturityOtherNoDiseaseNoDeficiency 3\n",
      "MaizeKharifEarlyVegetativeStemBorerPolysoraRustNoDeficiency 1\n",
      "MaizeKharifEarlyVegetativeStemBorerNoInsectNoDiseaseNoDeficiency 1\n",
      "RedGramKharifEarlyVegetativeCowBugsNoDiseaseNoDeficiency 2\n",
      "CottonKharifEarlyVegetativeNoInsectNoDiseaseBoron 2\n",
      "MaizeEarlyKharifStemBorer,EyeSpotLeaf 1\n",
      "MaizeKharifEarlyMaturityCobBorerNoDiseaseNoDeficiency 1\n",
      "MaizeKharifSeedlingStageStemBorerLeaf 1\n",
      "MaizeEarlyKharifLeafSpot,EyeSpotLeaf 1\n",
      "BlackGramKharifEarlyVegetativeOtherNoDiseaseZinc 1\n",
      "CottonKharifEarlyVegetativeNoInsectAlternariaLeafSpotNoDiseaseNoDeficiency 2\n",
      "Maizeeyespot 1\n",
      "RiceKharifNurseryLeafFolderNoDiseaseNoDeficiency 1\n",
      "MaizeEarlyKharifEyeSpot,LeafBlightLeaf 1\n",
      "CottonKharifEarlyVegetativeNoDeficiencyNoDiseaseNoDeficiency 1\n",
      "RedGramKharifEarlyVegetativeGramPodBorerNoDiseaseNoDeficiency 5\n",
      "RiceKharifTilleringRiceHispaNoDiseasePotash 1\n",
      "CottonKharifSquaringLeafHopperWhiteFliesNoDiseaseNoDeficiency 2\n",
      "RiceKharifEarlyVegetativeStemborerNoDiseaseNoDeficiency 1\n",
      "MaizeKharifEarlyVegetativeNoInsectFusariumStalkRotNoDeficiency 2\n",
      "MaizeKharifEarlyVegetativeCobBorerNoDiseaseIron 1\n",
      "BlackGramKharifTilleringNoInsectOthersOthers 1\n",
      "CottonKharifFloweringMagnesiumNoDiseaseNoDeficiency 1\n",
      "RedGramKharifEarlyVegetativePodBugSterilityMosaicNoDeficiency 1\n",
      "RedGramKharifEarlyVegetativeLeafFolderNoDiseaseNoDeficiency 2\n",
      "CottonKharifSquar8NgNoInsectNoDiseaseNoDeficiency 1\n",
      "BlackGramKharifEarlyMaturityAlternaria 1\n",
      "MaizeKharifEarlyVegetativeNoInsectNoDiseasePotash 2\n",
      "BlackGramKhariffFloweringNoInsectCercosporaLeafSpotNoDeficiency 1\n",
      "KharifSeedlingStageStemBorerLeaf 1\n",
      "CottonKharifEarlyVegetativePinkBollwormNoDiseaseNoDeficiency 2\n",
      "MaizeKharifGrainFillingNoDeficiencyDownyMildewNoDeficiency 1\n",
      "BlackGramKharifEarlyMaturityOtherCercosporaLeafSpotYellowMosaicVirusNoDeficiency 1\n",
      "RedGramKharifEarlyVegetativeLeafFolder 1\n",
      "CottonKharifEarlyVegetativeThripsNoDiseaseNoDeficiency 1\n",
      "CottonKharifEarlyVegetativeLeafHopperNoInsectNoDiseaseNoDeficiency 2\n",
      "BlackGramKharifTilleringNoInsectCercosporaLeafSpotNoDeficiency 1\n",
      "RedGramKharifEarlyVegetativeGramPodBorerNoInsectNoDiseaseNoDeficiency 1\n",
      "MaizeEarlyKharifLeafBlightLeaf 1\n",
      "MaizeKharifGrainFillingStemBorerCobBorerNoDiseaseNoDeficiency 1\n",
      "RiceKharifEarlyVegetativeRiceHispaNoInsectNoDiseaseNoDeficiency 1\n",
      "CottonKarifSqauringNoInsectNoDiseaseNoDeficiency 1\n",
      "CottonKharifFloweringStageThripsNoDiseaseNoDeficiency 1\n",
      "BlackGramKharifEarlyMaturityNoInsectYellowMosaicVirusNoDeficiency 1\n",
      "CottonKharifSquaringThrippsNoDiseaseNoDeficiency 2\n",
      "MaizeEarlyKharifStemBorer,LeafSpotLeaf 1\n",
      "CottonKharifEarlyFloweringVegetativeLeafHopperNoDiseaseNoDeficiency 1\n",
      "MaizeEarlyKharifLeafSpotLeaf 2\n",
      "CottonFloweringNoInsectNoDiseaseNoDeficiency 1\n",
      "BlackGramKharifFloweringNoInsectRustNoDeficiency 1\n",
      "CottonKharifSquareFormationNoInsectNoDiseaseNoDeficiency 1\n",
      "BlackGramKharifTilleringNoInsectNoDeficiencyNoDeficiency 1\n",
      "KharifMilkingStageStemborer 1\n",
      "BlackGramKharifFloweringNoInsectNoDiseasePotassium 1\n",
      "CottonKharifEarlyVegetativeLeafHopperNoDiseaseMagnesium 1\n",
      "MaizeKharifGrainFillingCobBorerNoDiseaseIron 1\n",
      "BlackGramKharifFloweringYellowMosaicVirusNoDeficiency 1\n"
     ]
    }
   ],
   "source": [
    "for x in Dict:\n",
    "    print (x, Dict[x])"
   ]
  },
  {
   "cell_type": "code",
   "execution_count": 74,
   "metadata": {},
   "outputs": [],
   "source": [
    "### Making folders"
   ]
  },
  {
   "cell_type": "code",
   "execution_count": 75,
   "metadata": {},
   "outputs": [],
   "source": [
    "for x in Dict.keys():\n",
    "    directory = x\n",
    "    path = os.path.join(parent_dir, directory)\n",
    "    os.makedirs(path, exist_ok=True)    # creates the path"
   ]
  },
  {
   "cell_type": "code",
   "execution_count": 76,
   "metadata": {},
   "outputs": [],
   "source": [
    "### Populating the folders"
   ]
  },
  {
   "cell_type": "code",
   "execution_count": 77,
   "metadata": {},
   "outputs": [],
   "source": [
    "number = 5000\n",
    "# Parent Directory path\n",
    "parent_dir = \"agroimages/Train_Classified\"\n",
    "Dict = {}\n",
    "for count, filename in enumerate(os.listdir(\"agroimages/Train\")):\n",
    "    \n",
    "    result = re.sub(\"(.*)(.{4}$)\", remove_second_group, filename) # remove the .jpg from the name\n",
    "    # now we need to get rid of the numbers at the end\n",
    "    result = remove_ints(result)\n",
    "    result = result.title()\n",
    "    result = result.replace(\" \", \"\")\n",
    "    if result not in Dict.keys():\n",
    "        Dict[result] = 1\n",
    "    else:\n",
    "        Dict[result] = Dict[result]+1\n",
    "    if \"agroimages/Train/\" + filename != 'agroimages/Train/.ipynb_checkpoints':\n",
    "        path = os.path.join(parent_dir, result)\n",
    "        shutil.copy(\"agroimages/Combined_images/\" + filename, path)\n"
   ]
  },
  {
   "cell_type": "markdown",
   "metadata": {},
   "source": [
    "### Manually deleting folders with less than 10 images for training as it seems pointless\n",
    "the python code using OS didnt seem to work too well but will eventually script it"
   ]
  },
  {
   "cell_type": "code",
   "execution_count": null,
   "metadata": {},
   "outputs": [],
   "source": []
  }
 ],
 "metadata": {
  "kernelspec": {
   "display_name": "Python 3",
   "language": "python",
   "name": "python3"
  },
  "language_info": {
   "codemirror_mode": {
    "name": "ipython",
    "version": 3
   },
   "file_extension": ".py",
   "mimetype": "text/x-python",
   "name": "python",
   "nbconvert_exporter": "python",
   "pygments_lexer": "ipython3",
   "version": "3.8.3"
  }
 },
 "nbformat": 4,
 "nbformat_minor": 4
}
