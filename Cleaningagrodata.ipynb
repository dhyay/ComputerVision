{
 "cells": [
  {
   "cell_type": "markdown",
   "metadata": {},
   "source": [
    "## We have 4 folders of custom data in this case, we need to clean it \n",
    "First the labels must be extracted from each of these images as they all have distinct formats \n",
    "Next we would need to group them into one large folder before we split them into testing and training data\n",
    "Thats what this program does"
   ]
  },
  {
   "cell_type": "code",
   "execution_count": 1,
   "metadata": {},
   "outputs": [],
   "source": [
    "# importing os module\n",
    "import os"
   ]
  },
  {
   "cell_type": "markdown",
   "metadata": {},
   "source": [
    "These are the custom data folders"
   ]
  },
  {
   "cell_type": "code",
   "execution_count": 2,
   "metadata": {},
   "outputs": [
    {
     "name": "stdout",
     "output_type": "stream",
     "text": [
      ".DS_Store\n",
      "Jawaharbsc83\n",
      "satyadev.499\n",
      "jkumpatla. ns\n",
      "Ananthang03\n",
      "vinento1979\n"
     ]
    }
   ],
   "source": [
    "for count, filename in enumerate(os.listdir(\"agroimages\")):\n",
    "    print(filename)"
   ]
  },
  {
   "cell_type": "code",
   "execution_count": 3,
   "metadata": {},
   "outputs": [
    {
     "name": "stdout",
     "output_type": "stream",
     "text": [
      "856\n"
     ]
    }
   ],
   "source": [
    "for count, filename in enumerate(os.listdir(\"agroimages/Jawaharbsc83\")):\n",
    "    no = count\n",
    "print(no)"
   ]
  },
  {
   "cell_type": "code",
   "execution_count": 4,
   "metadata": {},
   "outputs": [
    {
     "name": "stdout",
     "output_type": "stream",
     "text": [
      "1059\n"
     ]
    }
   ],
   "source": [
    "for count, filename in enumerate(os.listdir(\"agroimages/satyadev.499\")):\n",
    "    no = count\n",
    "print(no)"
   ]
  },
  {
   "cell_type": "code",
   "execution_count": 5,
   "metadata": {},
   "outputs": [
    {
     "name": "stdout",
     "output_type": "stream",
     "text": [
      "645\n"
     ]
    }
   ],
   "source": [
    "for count, filename in enumerate(os.listdir(\"agroimages/jkumpatla. ns\")):\n",
    "    no = count\n",
    "print(no)"
   ]
  },
  {
   "cell_type": "code",
   "execution_count": 6,
   "metadata": {},
   "outputs": [
    {
     "name": "stdout",
     "output_type": "stream",
     "text": [
      "726\n"
     ]
    }
   ],
   "source": [
    "for count, filename in enumerate(os.listdir(\"agroimages/Ananthang03\")):\n",
    "    no = count\n",
    "print(no)"
   ]
  },
  {
   "cell_type": "code",
   "execution_count": 7,
   "metadata": {},
   "outputs": [
    {
     "name": "stdout",
     "output_type": "stream",
     "text": [
      "1006\n"
     ]
    }
   ],
   "source": [
    "for count, filename in enumerate(os.listdir(\"agroimages/vinento1979\")):\n",
    "    no = count\n",
    "print(no)"
   ]
  },
  {
   "cell_type": "code",
   "execution_count": 1,
   "metadata": {
    "jupyter": {
     "source_hidden": true
    }
   },
   "outputs": [
    {
     "ename": "SyntaxError",
     "evalue": "invalid syntax (<ipython-input-1-bbd88cde4d97>, line 1)",
     "output_type": "error",
     "traceback": [
      "\u001b[0;36m  File \u001b[0;32m\"<ipython-input-1-bbd88cde4d97>\"\u001b[0;36m, line \u001b[0;32m1\u001b[0m\n\u001b[0;31m    We will explore them individually\u001b[0m\n\u001b[0m       ^\u001b[0m\n\u001b[0;31mSyntaxError\u001b[0m\u001b[0;31m:\u001b[0m invalid syntax\n"
     ]
    }
   ],
   "source": [
    "We will explore them individually"
   ]
  },
  {
   "cell_type": "markdown",
   "metadata": {},
   "source": [
    "# Jawaharbsc83"
   ]
  },
  {
   "cell_type": "markdown",
   "metadata": {},
   "source": [
    "They seem to have different formats which is why we need to approach them differently. \n",
    "Lets starts with Jawaharbsc83"
   ]
  },
  {
   "cell_type": "code",
   "execution_count": 8,
   "metadata": {},
   "outputs": [
    {
     "name": "stdout",
     "output_type": "stream",
     "text": [
      "['jawaharbsc83', 'Cotton', 'Kharif', 'Squaring ', '', 'No', 'Insect', '', 'No', 'Disease', '', 'No', 'Deficiency', '06-09-18', '13-21-06', '16-3811944', '80-1604762.png']\n",
      "['jawaharbsc83', 'Cotton', 'Kharif', 'Early', 'Vegetative', '', 'No', 'Insect', '', 'No', 'Disease', '', 'No', 'Deficiency', '05-09-18', '12-18-57', '0-0', '0-0.png']\n",
      "['jawaharbsc83', 'Cotton', 'Kharif', 'squaring ', '', 'No', 'Insect', '', 'No', 'Disease', '', 'No', 'Deficiency', '06-09-18', '12-00-49', '16-4350755', '80-2075557.png']\n",
      "['jawaharbsc83', 'Cotton', 'Kharif', 'Early', 'Vegetative', '', 'No', 'Insect', '', 'No', 'Disease', '', 'No', 'Deficiency', '05-09-18', '11-51-55', '0-0', '0-0.png']\n",
      "['jawaharbsc83', 'Red', 'Gram', 'Kharif', 'Early', 'Vegetative', '', 'No', 'Insect', '', 'No', 'Disease', '', 'No', 'Deficiency', '05-09-18', '10-21-48', '16-3251627', '80-3249663.png']\n",
      "['jawaharbsc83', 'Maize', 'Kharif', 'Early', 'Vegetative', '', 'No', 'Insect', '', 'No', 'Disease', '', 'Sulphur', '06-09-18', '17-45-08', '0-0', '0-0.png']\n",
      "['jawaharbsc83', 'Red', 'Gram', 'Kharif', 'Early', 'Vegetative', '', 'No', 'Insect', '', 'No', 'Disease', '', 'No', 'Deficiency', '06-09-18', '16-45-10', '0-0', '0-0.png']\n",
      "['jawaharbsc83', 'Maize', 'Kharif', 'Early', 'Vegetative', '', 'No', 'Insect', '', 'No', 'Disease', '', 'Sulphur', '06-09-18', '17-36-17', '0-0', '0-0.png']\n",
      "['jawaharbsc83', 'Red', 'Gram', 'Kharif', 'Early', 'Vegetative', '', 'No', 'Insect', '', 'No', 'Disease', '', 'No', 'Deficiency', '05-09-18', '10-07-53', '16-3251627', '80-3249663.png']\n",
      "['jawaharbsc83', 'Red', 'Gram', 'Kharif', 'Early', 'Vegetative', '', 'No', 'Insect', '', 'No', 'Disease', '', 'No', 'Deficiency', '06-09-18', '16-31-58', '0-0', '0-0.png']\n"
     ]
    }
   ],
   "source": [
    "number = 10\n",
    "for count, filename in enumerate(os.listdir(\"agroimages/Jawaharbsc83\")):\n",
    "    if count>= number:\n",
    "        break\n",
    "    else:\n",
    "        print(filename.split(\"_\"))"
   ]
  },
  {
   "cell_type": "markdown",
   "metadata": {},
   "source": [
    "The format seems to begiun with the folder name \n",
    "followed by the crop name and details \n",
    "and ends with four numerical strings that indicate the data, time and so on but we dont really need it.\n",
    "Removing the first string and last 4 strings from the string can be a good way to classify these strings"
   ]
  },
  {
   "cell_type": "code",
   "execution_count": 9,
   "metadata": {},
   "outputs": [],
   "source": [
    "# lets first create a function that converts a list back to a string \n",
    "def listToString(s): \n",
    "    \n",
    "    # initialize an empty string\n",
    "    str1 = \" \" \n",
    "    \n",
    "    # return string  \n",
    "    return (str1.join(s))"
   ]
  },
  {
   "cell_type": "code",
   "execution_count": null,
   "metadata": {},
   "outputs": [],
   "source": []
  },
  {
   "cell_type": "code",
   "execution_count": 10,
   "metadata": {},
   "outputs": [
    {
     "name": "stdout",
     "output_type": "stream",
     "text": [
      "['Cotton', 'Kharif', 'Squaring ', '', 'No', 'Insect', '', 'No', 'Disease', '', 'No', 'Deficiency']\n",
      "['Cotton', 'Kharif', 'Early', 'Vegetative', '', 'No', 'Insect', '', 'No', 'Disease', '', 'No', 'Deficiency']\n",
      "['Cotton', 'Kharif', 'squaring ', '', 'No', 'Insect', '', 'No', 'Disease', '', 'No', 'Deficiency']\n",
      "['Cotton', 'Kharif', 'Early', 'Vegetative', '', 'No', 'Insect', '', 'No', 'Disease', '', 'No', 'Deficiency']\n",
      "['Red', 'Gram', 'Kharif', 'Early', 'Vegetative', '', 'No', 'Insect', '', 'No', 'Disease', '', 'No', 'Deficiency']\n",
      "['Maize', 'Kharif', 'Early', 'Vegetative', '', 'No', 'Insect', '', 'No', 'Disease', '', 'Sulphur']\n",
      "['Red', 'Gram', 'Kharif', 'Early', 'Vegetative', '', 'No', 'Insect', '', 'No', 'Disease', '', 'No', 'Deficiency']\n",
      "['Maize', 'Kharif', 'Early', 'Vegetative', '', 'No', 'Insect', '', 'No', 'Disease', '', 'Sulphur']\n",
      "['Red', 'Gram', 'Kharif', 'Early', 'Vegetative', '', 'No', 'Insect', '', 'No', 'Disease', '', 'No', 'Deficiency']\n",
      "['Red', 'Gram', 'Kharif', 'Early', 'Vegetative', '', 'No', 'Insect', '', 'No', 'Disease', '', 'No', 'Deficiency']\n",
      "['Cotton', 'Kharif', 'squaring ', '', 'No', 'Insect', '', 'No', 'Disease', '', 'No', 'Deficiency']\n",
      "['Black', 'Gram', 'Kharif', 'Tillering', '', 'No', 'Insect', '', 'Cercospora', 'leaf', 'spot', 'No', 'Disease', '', 'No', 'Deficiency']\n",
      "['Cotton', 'Kharif', 'Early', 'Vegetative', '', 'No', 'Insect', '', 'Cotton', 'leaf', 'curl', 'virus', '', 'No', 'Deficiency']\n",
      "['Red', 'Gram', 'Kharif', 'Early', 'Vegetative', '', 'No', 'Insect', '', 'No', 'Disease', '', 'No', 'Deficiency']\n",
      "['Cotton', 'Kharif', 'Early', 'Vegetative', '', 'Cut', 'Worm', 'No', 'Insect', '', 'No', 'Disease', '', 'No', 'Deficiency']\n"
     ]
    }
   ],
   "source": [
    "number = 15\n",
    "for count, filename in enumerate(os.listdir(\"agroimages/Jawaharbsc83\")):\n",
    "        if count>= number:\n",
    "            break\n",
    "        else:\n",
    "            arr = (filename.split(\"_\")) # stores the name split by _ as an array\n",
    "            arr.pop(0) # removes the first element \n",
    "            arr = arr[:-4]  #remving the last 4 strings using slicing\n",
    "            xyz = listToString(arr)\n",
    "            #print(xyz)\n",
    "            print(arr)"
   ]
  },
  {
   "cell_type": "markdown",
   "metadata": {},
   "source": [
    "# Done with the first folder"
   ]
  },
  {
   "cell_type": "markdown",
   "metadata": {},
   "source": [
    "Seems to work. \n",
    "We would still need to put these together and make sure to take into account that there might be duplicates"
   ]
  },
  {
   "cell_type": "code",
   "execution_count": 12,
   "metadata": {},
   "outputs": [],
   "source": [
    "for count, filename in enumerate(os.listdir(\"agroimages/Jawaharbsc83\")):\n",
    "    arr = (filename.split(\"_\")) # stores the name split by _ as an array\n",
    "    arr.pop(0) # removes the first element \n",
    "    arr = arr[:-4]  #removing the last 4 strings using slicing\n",
    "    name = listToString(arr) # convert the array into a string\n",
    "    \n",
    "    dst = name + str(count) + \".jpg\" # added count just to get rid of any duplicates \n",
    "    src = \"agroimages/Jawaharbsc83/\"+ filename\n",
    "    dst = \"agroimages/Jawaharbsc83/\"+ dst\n",
    "\n",
    "    \n",
    "    # rename() function will\n",
    "    # rename all the files\n",
    "    os.rename(src, dst)"
   ]
  },
  {
   "cell_type": "markdown",
   "metadata": {},
   "source": [
    "It worked all the names seem readable now so we can move onto satyadev.499"
   ]
  },
  {
   "cell_type": "code",
   "execution_count": 13,
   "metadata": {},
   "outputs": [
    {
     "name": "stdout",
     "output_type": "stream",
     "text": [
      "['JioChat', 'Maize', 'Kharif', 'Early', 'Vegetative', '', 'Stem', 'Borer', '', 'No', 'Disease', '', 'No', 'Deficiency', '05-09-18', '15-35-48', '16-2500927', '80-1318563.png']\n",
      "['JioChat', 'Rice', 'Kharif', 'Early', 'Vegetative', '', 'No', 'Insect', '', 'No', 'Disease', '', 'No', 'Deficiency', '21-08-18', '16-01-27', '17-0318949', '82-1365127.png']\n",
      "['JioChat', 'Red', 'Gram', 'Kharif', 'Early', 'Vegetative', '', 'No', 'Insect', '', 'No', 'Disease', '', 'No', 'Deficiency', '07-09-18', '12-03-42', '16-5170516', '80-302333.png']\n",
      "['JioChat', 'Cotton', 'Kharif', 'Flowering', '', 'No', 'Insect', '', 'Cotton', 'leaf', 'curl', 'virus', '', 'No', 'Deficiency', '04-09-18', '16-18-44', '16-2665992', '80-3569907.png']\n",
      "['JioChat', 'Red', 'Gram', 'Kharif', 'Early', 'Vegetative', '', 'No', 'Insect', '', 'No', 'Disease', '', 'No', 'Deficiency', '05-09-18', '10-11-48', '16-3184851', '80-322181.png']\n",
      "['JioChat', 'Red', 'Gram', 'Kharif', 'Early', 'Vegetative', '', 'No', 'Insect', '', 'No', 'Disease', '', 'No', 'Deficiency', '06-09-18', '17-04-44', '16-2545509', '80-1433817.png']\n",
      "['JioChat', 'Red', 'Gram', 'Kharif', 'Early', 'Vegetative', '', 'No', 'Insect', '', 'No', 'Disease', '', 'No', 'Deficiency', '05-09-18', '10-20-23', '16-3184851', '80-322181.png']\n",
      "['JioChat', 'Cotton', 'Kharif', 'Squaring', '', 'No', 'Insect', '', 'No', 'Disease', '', 'No', 'Deficiency', '05-09-18', '11-49-11', '16-29769', '80-2814354.png']\n",
      "['JioChat', 'Cotton', 'Kharif', 'Squaring', '', 'Leaf', 'Hopper', '', 'No', 'Disease', '', 'No', 'Deficiency', '06-09-18', '13-52-12', '16-3833153', '80-151406.png']\n",
      "['JioChat', 'Red', 'Gram', 'Kharif', 'Early', 'Vegetative', '', 'No', 'Insect', '', 'No', 'Disease', '', 'No', 'Deficiency', '05-09-18', '10-05-47', '16-3184851', '80-322181.png']\n"
     ]
    }
   ],
   "source": [
    "number = 10\n",
    "for count, filename in enumerate(os.listdir(\"agroimages/satyadev.499\")):\n",
    "    if count>= number:\n",
    "        break\n",
    "    else:\n",
    "        print(filename.split(\"_\"))"
   ]
  },
  {
   "cell_type": "markdown",
   "metadata": {},
   "source": [
    "The format seems similiar here as well lets look at the other folders in that case"
   ]
  },
  {
   "cell_type": "code",
   "execution_count": 17,
   "metadata": {},
   "outputs": [
    {
     "name": "stdout",
     "output_type": "stream",
     "text": [
      "['SIM1', 'Cotton', 'Kharif', 'Early', 'Vegetative', '', 'No', 'Insect', '', 'No', 'Disease', '', 'No', 'Deficiency', '05-09-18', '11-55-57', '17-4731084', '78-482449.png']\n",
      "['SIM1', 'Cotton', 'Kharif', 'Early', 'Vegetative', '', 'No', 'Insect', '', 'No', 'Disease', '', 'No', 'Deficiency', '06-09-18', '12-16-09', '17-4731084', '78-482449.png']\n",
      "['SIM1', 'Maize', 'Kharif', 'Early', 'Vegetative', '', 'Stem', 'Borer', '', 'No', 'Disease', '', 'No', 'Deficiency', '23-08-18', '14-37-26', '17-0064874', '82-1048775.png']\n",
      "['SIM1', 'Cotton', 'Kharif', 'Early', 'Vegetative', '', 'Leaf', 'Hopper', '', 'No', 'Disease', '', 'No', 'Deficiency', '06-09-18', '12-59-50', '17-4731084', '78-482449.png']\n",
      "['SIM1', 'Red', 'Gram', 'Kharif', 'Early', 'Vegetative', '', 'No', 'Insect', '', 'Sterility', 'Mosaic', '', 'No', 'Deficiency', '05-09-18', '14-36-25', '17-4731084', '78-482449.png']\n",
      "['SIM1', 'Maize', 'Kharif', 'Grain', 'Filling', '', 'Cob', 'Borer', '', 'No', 'Disease', '', 'No', 'Deficiency', '07-09-18', '11-08-25', '17-4731084', '78-482449.png']\n",
      "['SIM1', 'Cotton', 'Kharif', 'Early', 'Vegetative', '', 'No', 'Insect', '', 'No', 'Disease', '', 'No', 'Deficiency', '05-09-18', '12-11-18', '17-4731084', '78-482449.png']\n",
      "['SIM1', 'Cotton', 'Kharif', 'Early', 'Vegetative', '', 'No', 'Insect', '', 'No', 'Disease', '', 'No', 'Deficiency', '06-09-18', '11-50-14', '17-4731084', '78-482449.png']\n",
      "['SIM1', 'Maize', 'Kharif', 'Grain', 'Filling', '', 'No', 'Insect', '', 'Maydis', 'leaf', 'blight', 'Downy', 'mildew', '', 'No', 'Deficiency', '20-08-18', '17-51-03', '17-1399439', '82-0783339.png']\n",
      "['SIM1', 'Maize', 'Kharif', 'Grain', 'Filling', '', 'Stem', 'Borer', '', 'No', 'Disease', '', 'No', 'Deficiency', '07-09-18', '11-13-54', '17-4731084', '78-482449.png']\n",
      "['SIM1', 'Cotton', 'Kharif', 'Early', 'Vegetative', '', 'No', 'Insect', '', 'No', 'Disease', '', 'No', 'Deficiency', '04-09-18', '18-11-18', '17-4731084', '78-482449.png']\n",
      "['SIM1', 'Maize', 'Kharif', 'Grain', 'Filling', '', 'Stem', 'Borer', '', 'No', 'Disease', '', 'Sulphur', '20-08-18', '17-58-38', '17-1399439', '82-0783339.png']\n",
      "['SIM1', 'Red', 'Gram', 'Kharif', 'Early', 'Vegetative', '', 'No', 'Insect', '', 'No', 'Disease', '', 'No', 'Deficiency', '06-09-18', '16-35-54', '17-4731084', '78-482449.png']\n",
      "['SIM1', 'Cotton', 'Kharif', 'Early', 'Vegetative', '', 'No', 'Insect', '', 'No', 'Disease', '', 'No', 'Deficiency', '05-09-18', '12-18-43', '17-4731084', '78-482449.png']\n",
      "['SIM1', 'Cotton', 'Kharif', 'Early', 'Vegetative', '', 'Leaf', 'Hopper', '', 'No', 'Disease', '', 'No', 'Deficiency', '24-08-18', '12-46-38', '17-0064874', '82-1048775.png']\n"
     ]
    }
   ],
   "source": [
    "number = 15\n",
    "\n",
    "for count, filename in enumerate(os.listdir(\"agroimages/Ananthang03\")):\n",
    "    if count>= number:\n",
    "        break\n",
    "    else:\n",
    "        print(filename.split(\"_\"))"
   ]
  },
  {
   "cell_type": "code",
   "execution_count": 18,
   "metadata": {},
   "outputs": [
    {
     "name": "stdout",
     "output_type": "stream",
     "text": [
      "['JioChat', 'Cotton', 'Kharif', 'Early', 'Vegetative', '', 'Mealybugs', '', 'No', 'Disease', '', 'No', 'Deficiency', '07-09-18', '10-20-52', '16-4256942', '80-4136997.png']\n",
      "['JioChat', 'Cotton', 'Kharif', 'Early', 'Vegetative', '', 'Leaf', 'Hopper', '', 'No', 'Disease', '', 'No', 'Deficiency', '06-09-18', '13-20-15', '16-3967511', '80-1494011.png']\n",
      "['JioChat', 'Rice', 'Kharif', 'Early', 'Vegetative', '', 'No', 'Insect', '', 'No', 'Disease', '', 'Potash', '21-08-18', '16-52-11', '0-0', '0-0.png']\n",
      "['JioChat', 'Cotton', 'Kharif', 'Early', 'Vegetative', '', 'No', 'Insect', '', 'No', 'Disease', '', 'No', 'Deficiency', '06-09-18', '11-55-32', '16-4213704', '80-2180142.png']\n",
      "['JioChat', 'Cotton', 'Kharif', 'Early', 'Vegetative', '', 'Mealybugs', '', 'No', 'Disease', '', 'No', 'Deficiency', '07-09-18', '10-13-10', '16-4256942', '80-4136997.png']\n",
      "['JioChat', 'Maize', 'Kharif', 'Early', 'Vegetative', '', 'Stem', 'Borer', '', 'No', 'Disease', '', 'No', 'Deficiency', '06-09-18', '17-20-50', '16-253139', '80-1287265.png']\n",
      "['JioChat', 'Red', 'Gram', 'Kharif', 'Early', 'Vegetative', '', 'No', 'Insect', '', 'No', 'Disease', '', 'No', 'Deficiency', '06-09-18', '16-36-12', '16-2382821', '80-1297734.png']\n",
      "['JioChat', 'Cotton', 'Kharif', 'Early', 'Vegetative', '', 'No', 'Insect', '', 'Cotton', 'leaf', 'curl', 'virus', '', 'No', 'Deficiency', '06-09-18', '12-07-22', '16-4194692', '80-2162712.png']\n",
      "['JioChat', 'Cotton', 'Kharif', 'Early', 'Vegetative', '', 'Leaf', 'Hopper', '', 'No', 'Disease', '', 'No', 'Deficiency', '04-09-18', '16-28-21', '0-0', '0-0.png']\n",
      "['JioChat', 'Rice', 'Kharif', 'Early', 'Vegetative', '', 'No', 'Insect', '', 'No', 'Disease', '', 'Potash', '22-08-18', '18-07-32', '0-0', '0-0.png']\n",
      "['JioChat', 'Cotton', 'Kharif', 'Early', 'Vegetative', '', 'Leaf', 'Hopper', '', 'No', 'Disease', '', 'No', 'Deficiency', '05-09-18', '12-17-01', '0-0', '0-0.png']\n",
      "['JioChat', 'Maize', 'Kharif', 'Early', 'Vegetative', '', 'Stem', 'Borer', '', 'No', 'Disease', '', 'No', 'Deficiency', '06-09-18', '17-19-40', '16-2815991', '80-1775673.png']\n",
      "['JioChat', 'Cotton', 'Kharif', 'Early', 'Vegetative', '', 'No', 'Insect', '', 'No', 'Disease', '', 'No', 'Deficiency', '06-09-18', '11-29-26', '16-4194692', '80-2162712.png']\n",
      "['JioChat', 'Maize', 'Kharif', 'Early', 'Vegetative', '', 'Stem', 'Borer', '', 'No', 'Disease', '', 'No', 'Deficiency', '05-09-18', '16-16-20', '0-0', '0-0.png']\n",
      "['JioChat', 'Cotton', 'Kharif', 'Early', 'Vegetative', '', 'No', 'Insect', '', 'No', 'Disease', '', 'No', 'Deficiency', '05-09-18', '12-20-59', '0-0', '0-0.png']\n"
     ]
    }
   ],
   "source": [
    "number = 15\n",
    "\n",
    "for count, filename in enumerate(os.listdir(\"agroimages/vinento1979\")):\n",
    "    if count>= number:\n",
    "        break\n",
    "    else:\n",
    "        print(filename.split(\"_\"))"
   ]
  },
  {
   "cell_type": "markdown",
   "metadata": {},
   "source": [
    "The three of these seem fine but the last folder does not have a consistent format"
   ]
  },
  {
   "cell_type": "code",
   "execution_count": 16,
   "metadata": {},
   "outputs": [
    {
     "name": "stdout",
     "output_type": "stream",
     "text": [
      "['jiotid-agri', 'C2', 'SS2', 'ST12', 'H2', 'P12', 'D32', 'N5', 'WI1', 'WS1', '0.0', '0.0', '', '', '', '', '', '', '', '10-12-18 16', '49', '20.png']\n",
      "['', 'C7', 'SS5', 'ST8', 'H1', 'NA', 'NA', 'NA', 'NA', 'NA', '16.982573333333335', '82.20714000000001', 'RAMANAYYAPETA, IN', 'HAZE', '28.00°', '65', '', '1016 hPa', '1544662283000', 'Dec-13-2018-10', '30', '00-AM', '13-12-18 10', '46', '43.png']\n",
      "['jkumpatla-ns', 'Maize', 'early kharif', 'eye spot, stem borer', 'leaf', '11-07-18', '10-32-18', '0-0', '0-0.png']\n",
      "['jkumpatla-ns', 'Rice', 'Kharif', 'Early', 'Vegetative', '', 'Stemborer', '', 'No', 'Disease', '', 'No', 'Deficiency', '22-08-18', '17-17-27', '0-0', '0-0.png']\n",
      "['jkumpatla-ns', 'Cotton', 'Kharif', 'Early', 'Vegetative', '', 'Leaf', 'Hopper', '', 'No', 'Disease', '', 'No', 'Deficiency', '24-08-18', '12-57-04', '0-0', '0-0.png']\n",
      "['jkumpatla-ns', 'Cotton', 'Kharif', 'Early', 'Vegetative', '', 'No', 'Insect', '', 'Cotton', 'leaf', 'curl', 'virus', '', 'No', 'Deficiency', '24-08-18', '12-12-13', '0-0', '0-0.png']\n",
      "['jiotid-agri', 'NA', 'NA', 'NA', 'NA', 'NA', 'WS1', '16.98258333333333', '82.20727333333335', 'RAMANAYYAPETA, IN', 'HAZE', '28.00°', '65', '', '1016 hPa', '1544662284000', 'Dec-13-2018-10', '30', '00-AM', '13-12-18 11', '08', '48.png']\n",
      "['jkumpatla-ns', 'Cotton', 'Kharif', 'Early', 'Vegetative', '', 'No', 'Insect', '', 'No', 'Disease', '', 'No', 'Deficiency', '04-09-18', '16-42-24', '0-0', '0-0.png']\n",
      "['jkumpatla-ns', 'Red', 'Gram', 'Kharif', 'Early', 'Vegetative', '', 'No', 'Insect', '', 'No', 'Disease', '', 'No', 'Deficiency', '06-09-18', '17-10-18', '16-4239507', '80-2187114.png']\n",
      "['jkumpatla-ns', 'Red', 'Gram', 'Kharif', 'Early', 'Vegetative', '', 'pod bug', '', 'Sterility', 'Mosaic', '', 'No', 'Deficiency', '06-09-18', '17-33-51', '16-2594485', '80-1381122.png']\n",
      "['jiotid-agri', 'C2', 'SS2', 'ST12', 'H2', 'P24', 'D32', 'N5', 'WI1', 'WS1', '0.0', '0.0', '', '', '', '', '', '', '', '10-12-18 17', '39', '22.png']\n",
      "['jkumpatla-ns', 'Cotton', 'Kharif', 'squaring', '', 'No', 'Insect', '', 'No', 'Disease', '', 'No', 'Deficiency', '06-09-18', '11-33-02', '16-4330387', '80-2340482.png']\n",
      "['jkumpatla-ns', 'Cotton', 'Kharif', 'squaring', '', 'Leaf', 'Hopper', '', 'No', 'Disease', '', 'No', 'Deficiency', '06-09-18', '11-43-29', '16-4164109', '80-2131337.png']\n",
      "['', 'C7', 'SS5', 'ST8', 'H1', 'NA', 'NA', 'NA', 'NA', 'NA', '16.982565', '82.20710833333332', 'RAMANAYYAPETA, IN', 'HAZE', '27.00°', '69', '', '1016 hPa', '1544662283000', 'Dec-13-2018-10', '00', '00-AM', '13-12-18 10', '44', '53.png']\n",
      "['jkumpatla-ns', 'Maize', 'early kharif', 'stem borer', 'leaf', '11-07-18', '16-04-41', '17-14533067', '82-07308268.png']\n"
     ]
    }
   ],
   "source": [
    "number = 15\n",
    "\n",
    "for count, filename in enumerate(os.listdir(\"agroimages/jkumpatla. ns\")):\n",
    "    if count>= number:\n",
    "        break\n",
    "    else:\n",
    "        print(filename.split(\"_\"))"
   ]
  },
  {
   "cell_type": "code",
   "execution_count": null,
   "metadata": {},
   "outputs": [],
   "source": []
  },
  {
   "cell_type": "code",
   "execution_count": null,
   "metadata": {},
   "outputs": [],
   "source": []
  },
  {
   "cell_type": "markdown",
   "metadata": {},
   "source": [
    "We can rename images within the three folders with the same formats and come back to the \n",
    "last one at the end"
   ]
  },
  {
   "cell_type": "markdown",
   "metadata": {},
   "source": [
    "# satyadev.499"
   ]
  },
  {
   "cell_type": "code",
   "execution_count": 21,
   "metadata": {},
   "outputs": [],
   "source": [
    "for count, filename in enumerate(os.listdir(\"agroimages/satyadev.499\")):\n",
    "    arr = (filename.split(\"_\")) # stores the name split by _ as an array\n",
    "    arr.pop(0) # removes the first element \n",
    "    arr = arr[:-4]  #removing the last 4 strings using slicing\n",
    "    name = listToString(arr) # convert the array into a string\n",
    "    \n",
    "    dst = name + str(count) + \".jpg\" # added count just to get rid of any duplicates \n",
    "    src = \"agroimages/satyadev.499/\"+ filename\n",
    "    dst = \"agroimages/satyadev.499/\"+ dst\n",
    "\n",
    "    \n",
    "    # rename() function will\n",
    "    # rename all the files\n",
    "    os.rename(src, dst)"
   ]
  },
  {
   "cell_type": "markdown",
   "metadata": {},
   "source": [
    "Done"
   ]
  },
  {
   "cell_type": "markdown",
   "metadata": {},
   "source": [
    "# Ananthang03"
   ]
  },
  {
   "cell_type": "code",
   "execution_count": 23,
   "metadata": {},
   "outputs": [],
   "source": [
    "for count, filename in enumerate(os.listdir(\"agroimages/Ananthang03\")):\n",
    "    arr = (filename.split(\"_\")) # stores the name split by _ as an array\n",
    "    arr.pop(0) # removes the first element \n",
    "    arr = arr[:-4]  #removing the last 4 strings using slicing\n",
    "    name = listToString(arr) # convert the array into a string\n",
    "    \n",
    "    dst = name + str(count) + \".jpg\" # added count just to get rid of any duplicates \n",
    "    src = \"agroimages/Ananthang03/\"+ filename\n",
    "    dst = \"agroimages/Ananthang03/\"+ dst\n",
    "\n",
    "    \n",
    "    # rename() function will\n",
    "    # rename all the files\n",
    "    os.rename(src, dst)"
   ]
  },
  {
   "cell_type": "markdown",
   "metadata": {},
   "source": [
    "# vinento1979"
   ]
  },
  {
   "cell_type": "code",
   "execution_count": 24,
   "metadata": {},
   "outputs": [],
   "source": [
    "for count, filename in enumerate(os.listdir(\"agroimages/vinento1979\")):\n",
    "    arr = (filename.split(\"_\")) # stores the name split by _ as an array\n",
    "    arr.pop(0) # removes the first element \n",
    "    arr = arr[:-4]  #removing the last 4 strings using slicing\n",
    "    name = listToString(arr) # convert the array into a string\n",
    "    \n",
    "    dst = name + str(count) + \".jpg\" # added count just to get rid of any duplicates \n",
    "    src = \"agroimages/vinento1979/\"+ filename\n",
    "    dst = \"agroimages/vinento1979/\"+ dst\n",
    "\n",
    "    \n",
    "    # rename() function will\n",
    "    # rename all the files\n",
    "    os.rename(src, dst)"
   ]
  },
  {
   "cell_type": "markdown",
   "metadata": {},
   "source": [
    "# jkumpatla. ns\n",
    "This folder contains some images with no useful labels \n",
    "upon manual inspection images that begin with \"jkumpatla\" \n",
    "seem to use the same format as earlier Ill rename those images\n",
    "I'll take the mislabeled images and store them in a seperate folder  \n",
    "as training images that could be manually verified "
   ]
  },
  {
   "cell_type": "code",
   "execution_count": 26,
   "metadata": {},
   "outputs": [
    {
     "name": "stdout",
     "output_type": "stream",
     "text": [
      "['jiotid-agri', 'C2', 'SS2', 'ST12', 'H2', 'P12', 'D32', 'N5', 'WI1', 'WS1', '0.0', '0.0', '', '', '', '', '', '', '', '10-12-18 16', '49', '20.png']\n",
      "['', 'C7', 'SS5', 'ST8', 'H1', 'NA', 'NA', 'NA', 'NA', 'NA', '16.982573333333335', '82.20714000000001', 'RAMANAYYAPETA, IN', 'HAZE', '28.00°', '65', '', '1016 hPa', '1544662283000', 'Dec-13-2018-10', '30', '00-AM', '13-12-18 10', '46', '43.png']\n",
      "['jkumpatla-ns', 'Maize', 'early kharif', 'eye spot, stem borer', 'leaf', '11-07-18', '10-32-18', '0-0', '0-0.png']\n",
      "['jkumpatla-ns', 'Rice', 'Kharif', 'Early', 'Vegetative', '', 'Stemborer', '', 'No', 'Disease', '', 'No', 'Deficiency', '22-08-18', '17-17-27', '0-0', '0-0.png']\n",
      "['jkumpatla-ns', 'Cotton', 'Kharif', 'Early', 'Vegetative', '', 'Leaf', 'Hopper', '', 'No', 'Disease', '', 'No', 'Deficiency', '24-08-18', '12-57-04', '0-0', '0-0.png']\n",
      "['jkumpatla-ns', 'Cotton', 'Kharif', 'Early', 'Vegetative', '', 'No', 'Insect', '', 'Cotton', 'leaf', 'curl', 'virus', '', 'No', 'Deficiency', '24-08-18', '12-12-13', '0-0', '0-0.png']\n",
      "['jiotid-agri', 'NA', 'NA', 'NA', 'NA', 'NA', 'WS1', '16.98258333333333', '82.20727333333335', 'RAMANAYYAPETA, IN', 'HAZE', '28.00°', '65', '', '1016 hPa', '1544662284000', 'Dec-13-2018-10', '30', '00-AM', '13-12-18 11', '08', '48.png']\n",
      "['jkumpatla-ns', 'Cotton', 'Kharif', 'Early', 'Vegetative', '', 'No', 'Insect', '', 'No', 'Disease', '', 'No', 'Deficiency', '04-09-18', '16-42-24', '0-0', '0-0.png']\n",
      "['jkumpatla-ns', 'Red', 'Gram', 'Kharif', 'Early', 'Vegetative', '', 'No', 'Insect', '', 'No', 'Disease', '', 'No', 'Deficiency', '06-09-18', '17-10-18', '16-4239507', '80-2187114.png']\n",
      "['jkumpatla-ns', 'Red', 'Gram', 'Kharif', 'Early', 'Vegetative', '', 'pod bug', '', 'Sterility', 'Mosaic', '', 'No', 'Deficiency', '06-09-18', '17-33-51', '16-2594485', '80-1381122.png']\n",
      "['jiotid-agri', 'C2', 'SS2', 'ST12', 'H2', 'P24', 'D32', 'N5', 'WI1', 'WS1', '0.0', '0.0', '', '', '', '', '', '', '', '10-12-18 17', '39', '22.png']\n",
      "['jkumpatla-ns', 'Cotton', 'Kharif', 'squaring', '', 'No', 'Insect', '', 'No', 'Disease', '', 'No', 'Deficiency', '06-09-18', '11-33-02', '16-4330387', '80-2340482.png']\n",
      "['jkumpatla-ns', 'Cotton', 'Kharif', 'squaring', '', 'Leaf', 'Hopper', '', 'No', 'Disease', '', 'No', 'Deficiency', '06-09-18', '11-43-29', '16-4164109', '80-2131337.png']\n",
      "['', 'C7', 'SS5', 'ST8', 'H1', 'NA', 'NA', 'NA', 'NA', 'NA', '16.982565', '82.20710833333332', 'RAMANAYYAPETA, IN', 'HAZE', '27.00°', '69', '', '1016 hPa', '1544662283000', 'Dec-13-2018-10', '00', '00-AM', '13-12-18 10', '44', '53.png']\n",
      "['jkumpatla-ns', 'Maize', 'early kharif', 'stem borer', 'leaf', '11-07-18', '16-04-41', '17-14533067', '82-07308268.png']\n"
     ]
    }
   ],
   "source": [
    "number = 15\n",
    "\n",
    "for count, filename in enumerate(os.listdir(\"agroimages/jkumpatla. ns\")):\n",
    "    if count>= number:\n",
    "        break\n",
    "    else:\n",
    "        print(filename.split(\"_\"))"
   ]
  },
  {
   "cell_type": "code",
   "execution_count": 27,
   "metadata": {},
   "outputs": [],
   "source": [
    "# importing shutil module \n",
    "import shutil "
   ]
  },
  {
   "cell_type": "markdown",
   "metadata": {},
   "source": [
    "Will now create a duplicte folder and remove values that arent needed"
   ]
  },
  {
   "cell_type": "code",
   "execution_count": 30,
   "metadata": {},
   "outputs": [],
   "source": [
    "# Source path \n",
    "src = \"agroimages/jkumpatla. ns\"\n",
    "   \n",
    "# Destination path \n",
    "dest = \"agroimages/sampletesting1\"\n",
    "   \n",
    "# Copy the content of \n",
    "# source to destination \n",
    "destination = shutil.copytree(src, dest) "
   ]
  },
  {
   "cell_type": "code",
   "execution_count": null,
   "metadata": {},
   "outputs": [],
   "source": []
  },
  {
   "cell_type": "code",
   "execution_count": 36,
   "metadata": {},
   "outputs": [],
   "source": [
    "for count, filename in enumerate(os.listdir(\"agroimages/jkumpatla. ns\")):\n",
    "    arr = (filename.split(\"_\")) # stores the name split by _ as an array\n",
    "    if arr[0]!=\"jkumpatla-ns\":\n",
    "        os.remove(\"agroimages/jkumpatla. ns/\" + filename) "
   ]
  },
  {
   "cell_type": "markdown",
   "metadata": {},
   "source": [
    "### jkumpatla. ns now only has images with labels whose meanings we can extract"
   ]
  },
  {
   "cell_type": "code",
   "execution_count": 37,
   "metadata": {},
   "outputs": [],
   "source": [
    "for count, filename in enumerate(os.listdir(\"agroimages/jkumpatla. ns\")):\n",
    "    arr = (filename.split(\"_\")) # stores the name split by _ as an array\n",
    "    arr.pop(0) # removes the first element \n",
    "    arr = arr[:-4]  #removing the last 4 strings using slicing\n",
    "    name = listToString(arr) # convert the array into a string\n",
    "    \n",
    "    dst = name + str(count) + \".jpg\" # added count just to get rid of any duplicates \n",
    "    src = \"agroimages/jkumpatla. ns/\"+ filename\n",
    "    dst = \"agroimages/jkumpatla. ns/\"+ dst\n",
    "\n",
    "    \n",
    "    # rename() function will\n",
    "    # rename all the files\n",
    "    os.rename(src, dst)"
   ]
  },
  {
   "cell_type": "markdown",
   "metadata": {},
   "source": [
    "# sample testing\n",
    "Need to remove everything but the unlabeled imnages \n",
    "from this folder that we could use for final testing"
   ]
  },
  {
   "cell_type": "code",
   "execution_count": 38,
   "metadata": {},
   "outputs": [],
   "source": [
    "for count, filename in enumerate(os.listdir(\"agroimages/sampletesting1\")):\n",
    "    arr = (filename.split(\"_\")) # stores the name split by _ as an array\n",
    "    if arr[0]==\"jkumpatla-ns\":\n",
    "        os.remove(\"agroimages/sampletesting1/\" + filename) "
   ]
  },
  {
   "cell_type": "markdown",
   "metadata": {},
   "source": [
    "# Merge images into one folder "
   ]
  },
  {
   "cell_type": "code",
   "execution_count": 39,
   "metadata": {},
   "outputs": [
    {
     "name": "stdout",
     "output_type": "stream",
     "text": [
      "/Users/dhyaybhatt/Desktop/AgroProject\n"
     ]
    }
   ],
   "source": [
    "# current folder path\n",
    "current_folder = os.getcwd() \n",
    "print(current_folder)"
   ]
  },
  {
   "cell_type": "code",
   "execution_count": 41,
   "metadata": {},
   "outputs": [],
   "source": [
    "# list of folders to be merged\n",
    "list_dir = ['agroimages/Jawaharbsc83', 'agroimages/satyadev.499', 'agroimages/jkumpatla. ns','agroimages/Ananthang03','agroimages/vinento1979']\n",
    "  \n",
    "# enumerate on list_dir to get the \n",
    "# content of all the folders ans store it in a dictionary\n",
    "content_list = {}\n",
    "for index, val in enumerate(list_dir):\n",
    "    path = os.path.join(current_folder, val)\n",
    "    content_list[ list_dir[index] ] = os.listdir(path)"
   ]
  }
 ],
 "metadata": {
  "kernelspec": {
   "display_name": "Python 3",
   "language": "python",
   "name": "python3"
  },
  "language_info": {
   "codemirror_mode": {
    "name": "ipython",
    "version": 3
   },
   "file_extension": ".py",
   "mimetype": "text/x-python",
   "name": "python",
   "nbconvert_exporter": "python",
   "pygments_lexer": "ipython3",
   "version": "3.8.3"
  }
 },
 "nbformat": 4,
 "nbformat_minor": 4
}
